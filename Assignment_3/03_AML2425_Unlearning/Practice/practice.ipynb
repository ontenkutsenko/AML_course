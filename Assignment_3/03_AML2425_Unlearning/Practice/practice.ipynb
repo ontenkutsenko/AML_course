{
  "cells": [
    {
      "cell_type": "markdown",
      "metadata": {
        "id": "hENOsHsGZENz"
      },
      "source": [
        "# AML Homework 3: Practice\n"
      ]
    },
    {
      "cell_type": "markdown",
      "metadata": {
        "id": "XINP0vYuZEOw"
      },
      "source": [
        "## Table of contents:\n",
        "This notebook is composed of 7 Sections for 17 points\n",
        "\n",
        "* **Section 1: Train a CNN from Scratch on CIFAR-10 ( 2 Points)**\n",
        "\n",
        "    We will implement a Convolutional Neural Network (CNN) from the ground up to classify images from the CIFAR-10 dataset. The focus will be on understanding the architecture of CNNs, preprocessing the dataset, and optimizing the model to achieve high accuracy.\n",
        "\n",
        "* **Section 2: Unlearning( 2 Points)**\n",
        "\n",
        "    We introduce the concept of unlearning, which involves modifying a trained model to forget specific data points while retaining its overall performance.\n",
        "\n",
        "* **Section 3: Gold model ( 2 Points)**\n",
        "\n",
        "    We discuss the development of the Gold model, which serves as the benchmark for evaluating performance after implementing unlearning techniques.\n",
        "\n",
        "\n",
        "* **Section 4: Mia Attacks ( 3 Points)**\n",
        "\n",
        "    This section will focus on MIA (Membership Inference Attacks), which are designed to determine whether a specific data point was included in the training set of a machine learning model.\n",
        "    \n",
        "* **Section 5: Unlearning with KL divergence ( 2 Points)**\n",
        "\n",
        "    This section will discuss the application of Kullback-Leibler (KL) divergence in the unlearning process, emphasizing its role in quantifying the difference between the model's original and modified predictions.\n",
        "\n",
        "* **Section 6: GMN for Unlearning ( 6 Points)**\n",
        "\n",
        "    This section will introduce the use of Graph Meta Networks (GMNs) in the unlearning process, highlighting their ability to adaptively modify model parameters based on specific unlearning tasks.\n",
        "\n",
        "Do not modify parts of code that are not marked with \"Your turn\" or \"Add your code below\"."
      ]
    },
    {
      "cell_type": "code",
      "execution_count": null,
      "metadata": {
        "colab": {
          "base_uri": "https://localhost:8080/"
        },
        "id": "VoJwH8KeZKIy",
        "outputId": "330e6bf2-ca51-4039-c84d-a6d03f195c65"
      },
      "outputs": [
        {
          "output_type": "stream",
          "name": "stdout",
          "text": [
            "Collecting torch_geometric\n",
            "  Downloading torch_geometric-2.6.1-py3-none-any.whl.metadata (63 kB)\n",
            "\u001b[?25l     \u001b[90m━━━━━━━━━━━━━━━━━━━━━━━━━━━━━━━━━━━━━━━━\u001b[0m \u001b[32m0.0/63.1 kB\u001b[0m \u001b[31m?\u001b[0m eta \u001b[36m-:--:--\u001b[0m\r\u001b[2K     \u001b[90m━━━━━━━━━━━━━━━━━━━━━━━━━━━━━━━━━━━━━━━━\u001b[0m \u001b[32m63.1/63.1 kB\u001b[0m \u001b[31m2.8 MB/s\u001b[0m eta \u001b[36m0:00:00\u001b[0m\n",
            "\u001b[?25hRequirement already satisfied: aiohttp in /usr/local/lib/python3.10/dist-packages (from torch_geometric) (3.10.10)\n",
            "Requirement already satisfied: fsspec in /usr/local/lib/python3.10/dist-packages (from torch_geometric) (2024.10.0)\n",
            "Requirement already satisfied: jinja2 in /usr/local/lib/python3.10/dist-packages (from torch_geometric) (3.1.4)\n",
            "Requirement already satisfied: numpy in /usr/local/lib/python3.10/dist-packages (from torch_geometric) (1.26.4)\n",
            "Requirement already satisfied: psutil>=5.8.0 in /usr/local/lib/python3.10/dist-packages (from torch_geometric) (5.9.5)\n",
            "Requirement already satisfied: pyparsing in /usr/local/lib/python3.10/dist-packages (from torch_geometric) (3.2.0)\n",
            "Requirement already satisfied: requests in /usr/local/lib/python3.10/dist-packages (from torch_geometric) (2.32.3)\n",
            "Requirement already satisfied: tqdm in /usr/local/lib/python3.10/dist-packages (from torch_geometric) (4.66.6)\n",
            "Requirement already satisfied: aiohappyeyeballs>=2.3.0 in /usr/local/lib/python3.10/dist-packages (from aiohttp->torch_geometric) (2.4.3)\n",
            "Requirement already satisfied: aiosignal>=1.1.2 in /usr/local/lib/python3.10/dist-packages (from aiohttp->torch_geometric) (1.3.1)\n",
            "Requirement already satisfied: attrs>=17.3.0 in /usr/local/lib/python3.10/dist-packages (from aiohttp->torch_geometric) (24.2.0)\n",
            "Requirement already satisfied: frozenlist>=1.1.1 in /usr/local/lib/python3.10/dist-packages (from aiohttp->torch_geometric) (1.5.0)\n",
            "Requirement already satisfied: multidict<7.0,>=4.5 in /usr/local/lib/python3.10/dist-packages (from aiohttp->torch_geometric) (6.1.0)\n",
            "Requirement already satisfied: yarl<2.0,>=1.12.0 in /usr/local/lib/python3.10/dist-packages (from aiohttp->torch_geometric) (1.17.1)\n",
            "Requirement already satisfied: async-timeout<5.0,>=4.0 in /usr/local/lib/python3.10/dist-packages (from aiohttp->torch_geometric) (4.0.3)\n",
            "Requirement already satisfied: MarkupSafe>=2.0 in /usr/local/lib/python3.10/dist-packages (from jinja2->torch_geometric) (3.0.2)\n",
            "Requirement already satisfied: charset-normalizer<4,>=2 in /usr/local/lib/python3.10/dist-packages (from requests->torch_geometric) (3.4.0)\n",
            "Requirement already satisfied: idna<4,>=2.5 in /usr/local/lib/python3.10/dist-packages (from requests->torch_geometric) (3.10)\n",
            "Requirement already satisfied: urllib3<3,>=1.21.1 in /usr/local/lib/python3.10/dist-packages (from requests->torch_geometric) (2.2.3)\n",
            "Requirement already satisfied: certifi>=2017.4.17 in /usr/local/lib/python3.10/dist-packages (from requests->torch_geometric) (2024.8.30)\n",
            "Requirement already satisfied: typing-extensions>=4.1.0 in /usr/local/lib/python3.10/dist-packages (from multidict<7.0,>=4.5->aiohttp->torch_geometric) (4.12.2)\n",
            "Requirement already satisfied: propcache>=0.2.0 in /usr/local/lib/python3.10/dist-packages (from yarl<2.0,>=1.12.0->aiohttp->torch_geometric) (0.2.0)\n",
            "Downloading torch_geometric-2.6.1-py3-none-any.whl (1.1 MB)\n",
            "\u001b[2K   \u001b[90m━━━━━━━━━━━━━━━━━━━━━━━━━━━━━━━━━━━━━━━━\u001b[0m \u001b[32m1.1/1.1 MB\u001b[0m \u001b[31m18.8 MB/s\u001b[0m eta \u001b[36m0:00:00\u001b[0m\n",
            "\u001b[?25hInstalling collected packages: torch_geometric\n",
            "Successfully installed torch_geometric-2.6.1\n"
          ]
        }
      ],
      "source": [
        "!pip install torch_geometric"
      ]
    },
    {
      "cell_type": "code",
      "execution_count": null,
      "metadata": {
        "id": "1j53n8ezZEPB"
      },
      "outputs": [],
      "source": [
        "# import libraries\n",
        "import numpy as np\n",
        "import pandas as pd\n",
        "import matplotlib.pyplot as plt\n",
        "import torch\n",
        "import torch.nn as nn\n",
        "from torchvision import datasets, transforms\n",
        "from torchvision.transforms import ToTensor\n",
        "from torch.utils.data import DataLoader\n",
        "from tqdm import tqdm\n",
        "import os\n",
        "import random\n",
        "from sklearn import linear_model, model_selection\n",
        "from torch_geometric.data import Data\n",
        "#from gmn.graph_construct.model_arch_graph import sequential_to_arch, arch_to_graph\n",
        "import torch.nn.functional as F\n",
        "\n",
        "\n",
        "#fix seeds\n",
        "np.random.seed(0)\n",
        "torch.manual_seed(0)\n",
        "random.seed(0)\n",
        "torch.cuda.manual_seed(0)\n",
        "torch.cuda.manual_seed_all(0)\n",
        "torch.backends.cudnn.deterministic = True\n",
        "torch.backends.cudnn.benchmark = False\n"
      ]
    },
    {
      "cell_type": "markdown",
      "metadata": {
        "id": "PTXJdEA-ZEPD"
      },
      "source": [
        "# Section 1: Train from scratch a CNN on CIFAR-10"
      ]
    },
    {
      "cell_type": "markdown",
      "metadata": {
        "id": "YFRSZxe0ZEPG"
      },
      "source": [
        "### 1.1: Model definition"
      ]
    },
    {
      "cell_type": "code",
      "execution_count": null,
      "metadata": {
        "id": "a_UbyYhAZEPJ"
      },
      "outputs": [],
      "source": [
        "def create_model():\n",
        "    '''\n",
        "    Create a simple CNN model for CIFAR10 dataset\n",
        "    '''\n",
        "\n",
        "    model = nn.Sequential(\n",
        "        nn.Conv2d(3, 32, kernel_size=(3, 3), stride=1, padding=1),\n",
        "        nn.BatchNorm2d(32),\n",
        "        nn.ReLU(),\n",
        "        nn.AvgPool2d(kernel_size=2, stride=2),\n",
        "        nn.Dropout(p=0.1),\n",
        "\n",
        "        nn.Conv2d(32, 64, kernel_size=(3, 3), stride=1, padding=1),\n",
        "        nn.BatchNorm2d(64),\n",
        "        nn.ReLU(),\n",
        "        nn.AvgPool2d(kernel_size=2, stride=2),\n",
        "        nn.Dropout(p=0.1),\n",
        "\n",
        "        nn.Conv2d(64, 64, kernel_size=(3, 3), stride=1, padding=1),\n",
        "        nn.BatchNorm2d(64),\n",
        "        nn.ReLU(),\n",
        "        nn.AdaptiveAvgPool2d((1,1)),\n",
        "        nn.Flatten(),\n",
        "        nn.Dropout(p=0.1),\n",
        "\n",
        "        nn.Linear(64, 32),\n",
        "        nn.ReLU(),\n",
        "        nn.Dropout(p=0.1),\n",
        "\n",
        "        nn.Linear(32, 10)\n",
        "    )\n",
        "\n",
        "    return model"
      ]
    },
    {
      "cell_type": "markdown",
      "metadata": {
        "id": "kZSYbG51ZEPL"
      },
      "source": [
        "### 1.2 DataLoader\n"
      ]
    },
    {
      "cell_type": "markdown",
      "metadata": {
        "id": "LT3p9x2UZEPN"
      },
      "source": [
        "#### Your turn ( 1 Point)\n",
        "\n",
        "Calculate the mean and the standard deviation vectors to be used in cifar_transforms  rounding the values to four decimal places."
      ]
    },
    {
      "cell_type": "code",
      "execution_count": null,
      "metadata": {
        "colab": {
          "base_uri": "https://localhost:8080/"
        },
        "id": "FV1bg1pwZEPX",
        "outputId": "8f9e3dbc-476d-4f4f-beae-4b2183dcb6e4"
      },
      "outputs": [
        {
          "output_type": "stream",
          "name": "stdout",
          "text": [
            "Downloading https://www.cs.toronto.edu/~kriz/cifar-10-python.tar.gz to ./data/cifar-10-python.tar.gz\n"
          ]
        },
        {
          "output_type": "stream",
          "name": "stderr",
          "text": [
            "100%|██████████| 170M/170M [00:04<00:00, 34.3MB/s]\n"
          ]
        },
        {
          "output_type": "stream",
          "name": "stdout",
          "text": [
            "Extracting ./data/cifar-10-python.tar.gz to ./data\n",
            "Mean:  [0.4914 0.4822 0.4465]\n",
            "Std:  [0.247  0.2435 0.2616]\n"
          ]
        }
      ],
      "source": [
        "import numpy as np\n",
        "from torchvision import datasets, transforms\n",
        "\n",
        "# Load the dataset\n",
        "train_dataset = datasets.CIFAR10(root='./data', train=True, download=True, transform=transforms.ToTensor())\n",
        "\n",
        "'''\n",
        "Add your code below\n",
        "'''\n",
        "# Compute the mean and standard deviation for each channel\n",
        "\n",
        "mean = train_dataset.data.mean(axis=(0,1,2))/255\n",
        "std = train_dataset.data.std(axis=(0,1,2))/255\n",
        "\n",
        "print(\"Mean: \", np.round(mean, 4))\n",
        "print(\"Std: \", np.round(std, 4))"
      ]
    },
    {
      "cell_type": "code",
      "execution_count": null,
      "metadata": {
        "colab": {
          "base_uri": "https://localhost:8080/"
        },
        "id": "-_ayuaB6ZEPc",
        "outputId": "03897e45-2e47-45e4-e323-acae2a3c60ad"
      },
      "outputs": [
        {
          "output_type": "stream",
          "name": "stdout",
          "text": [
            "Files already downloaded and verified\n",
            "Files already downloaded and verified\n"
          ]
        }
      ],
      "source": [
        "# Define the augmentations for the training set\n",
        "cifar_transforms = transforms.Compose([\n",
        "    transforms.ToTensor(),                    # Convert the image to a PyTorch tensor\n",
        "    transforms.Normalize(mean, std), # Normalize the image channel\n",
        "])\n",
        "\n",
        "# Load the CIFAR-10 dataset with the appropriate transforms\n",
        "train_dataset = datasets.CIFAR10(root=\"data\", train=True, transform=cifar_transforms, download=True)\n",
        "test_dataset = datasets.CIFAR10(root=\"data\", train=False, transform=cifar_transforms, download=True)\n",
        "\n",
        "#split test into test and validation\n",
        "val_dataset, test_dataset = torch.utils.data.random_split(test_dataset, [2000, 8000])"
      ]
    },
    {
      "cell_type": "code",
      "execution_count": null,
      "metadata": {
        "id": "T9T0MP5gZEPf"
      },
      "outputs": [],
      "source": [
        "batch_size = 512\n",
        "\n",
        "# Create the DataLoaders\n",
        "train_loader = DataLoader(train_dataset, batch_size = batch_size, shuffle=True)\n",
        "val_loader = DataLoader(val_dataset, batch_size = batch_size, shuffle=False)\n",
        "test_loader = DataLoader(test_dataset, batch_size = batch_size, shuffle=False)"
      ]
    },
    {
      "cell_type": "markdown",
      "metadata": {
        "id": "c05G-SqFZEPg"
      },
      "source": [
        "### 1.3 See the data"
      ]
    },
    {
      "cell_type": "code",
      "execution_count": null,
      "metadata": {
        "colab": {
          "base_uri": "https://localhost:8080/",
          "height": 214
        },
        "id": "Oi8wsSsaZEPh",
        "outputId": "f5858d63-6819-4afe-9ec7-1a1e58a9d790"
      },
      "outputs": [
        {
          "output_type": "display_data",
          "data": {
            "text/plain": [
              "<Figure size 2000x400 with 20 Axes>"
            ],
            "image/png": "[encoded data removed]"
          },
          "metadata": {}
        }
      ],
      "source": [
        "# plot 2 figures for each of the 10 classes in the dataset\n",
        "fig, axs = plt.subplots(2, 10, figsize=(20, 4))\n",
        "for i in range(10):\n",
        "    # Get the first image of each class\n",
        "    img = train_dataset.data[train_dataset.targets.index(i)]\n",
        "    axs[0, i].imshow(img)\n",
        "    axs[0, i].axis('off')\n",
        "    axs[0, i].set_title(train_dataset.classes[i])\n",
        "\n",
        "    # Get the second image of each class\n",
        "    img = train_dataset.data[train_dataset.targets.index(i, train_dataset.targets.index(i) + 1)]\n",
        "    axs[1, i].imshow(img)\n",
        "    axs[1, i].axis('off')"
      ]
    },
    {
      "cell_type": "markdown",
      "metadata": {
        "id": "bv5uJ9NmZEPj"
      },
      "source": [
        "### 1.4: Training Loop"
      ]
    },
    {
      "cell_type": "code",
      "execution_count": null,
      "metadata": {
        "colab": {
          "base_uri": "https://localhost:8080/"
        },
        "id": "d8mDjVYIaEK7",
        "outputId": "d39ba14f-6a78-48b3-8051-04b17f06d675"
      },
      "outputs": [
        {
          "output_type": "stream",
          "name": "stdout",
          "text": [
            "Mounted at /content/drive\n"
          ]
        }
      ],
      "source": [
        "from google.colab import drive\n",
        "drive.mount('/content/drive', force_remount=True)"
      ]
    },
    {
      "cell_type": "code",
      "execution_count": null,
      "metadata": {
        "colab": {
          "base_uri": "https://localhost:8080/"
        },
        "id": "Wg7RfkOvaZ-_",
        "outputId": "494d74ee-51a2-400f-bfc6-79d089fce467"
      },
      "outputs": [
        {
          "output_type": "stream",
          "name": "stdout",
          "text": [
            "/content/drive/MyDrive/Practice\n"
          ]
        }
      ],
      "source": [
        "%cd /content/drive/MyDrive/Practice"
      ]
    },
    {
      "cell_type": "code",
      "source": [
        "if torch.cuda.is_available():\n",
        "    print(\"GPU is available!\")\n",
        "    print(\"Device name:\", torch.cuda.get_device_name(0))  # Get name of your GPU\n",
        "else:\n",
        "    print(\"GPU is not available. Using CPU instead.\")"
      ],
      "metadata": {
        "colab": {
          "base_uri": "https://localhost:8080/"
        },
        "id": "z_YnGxNenliD",
        "outputId": "09005651-be5c-4be6-f721-d749dc50a2fb"
      },
      "execution_count": null,
      "outputs": [
        {
          "output_type": "stream",
          "name": "stdout",
          "text": [
            "GPU is available!\n",
            "Device name: Tesla T4\n"
          ]
        }
      ]
    },
    {
      "cell_type": "code",
      "execution_count": null,
      "metadata": {
        "colab": {
          "base_uri": "https://localhost:8080/"
        },
        "id": "0XlMz3wCZEPk",
        "outputId": "1bb58aca-c79d-472e-ffd2-3012cd8f7e54"
      },
      "outputs": [
        {
          "output_type": "stream",
          "name": "stderr",
          "text": [
            "/usr/local/lib/python3.10/dist-packages/torch/optim/lr_scheduler.py:62: UserWarning: The verbose parameter is deprecated. Please use get_last_lr() to access the learning rate.\n",
            "  warnings.warn(\n"
          ]
        }
      ],
      "source": [
        "device = torch.device(\"cuda\" if torch.cuda.is_available() else \"cpu\")\n",
        "#load weights\n",
        "model = create_model()\n",
        "model.load_state_dict(torch.load('checkpoint/model_weights.pth', map_location=device, weights_only=True))\n",
        "model.to(device);\n",
        "\n",
        "# initialize the loss function and optimizer\n",
        "criterion = nn.CrossEntropyLoss()\n",
        "optimizer = torch.optim.Adam(model.parameters(), lr=0.001)\n",
        "scheduler = torch.optim.lr_scheduler.ReduceLROnPlateau(optimizer, mode='min', factor=0.1, patience=5, verbose=True)\n",
        "num_epochs = 20"
      ]
    },
    {
      "cell_type": "code",
      "execution_count": null,
      "metadata": {
        "colab": {
          "base_uri": "https://localhost:8080/"
        },
        "id": "anvff4sPZEPl",
        "outputId": "bb4d4530-096d-426f-ab78-85a932a34f98"
      },
      "outputs": [
        {
          "output_type": "stream",
          "name": "stderr",
          "text": [
            "Epoch [1/20]: 100%|██████████| 98/98 [00:18<00:00,  5.28it/s, loss=1.6]\n"
          ]
        },
        {
          "output_type": "stream",
          "name": "stdout",
          "text": [
            "Epoch [1/20], Average Loss: 1.8926\n",
            "Validation Loss: 1.5755\n"
          ]
        },
        {
          "output_type": "stream",
          "name": "stderr",
          "text": [
            "Epoch [2/20]: 100%|██████████| 98/98 [00:17<00:00,  5.50it/s, loss=1.36]\n"
          ]
        },
        {
          "output_type": "stream",
          "name": "stdout",
          "text": [
            "Epoch [2/20], Average Loss: 1.4602\n",
            "Validation Loss: 1.3559\n"
          ]
        },
        {
          "output_type": "stream",
          "name": "stderr",
          "text": [
            "Epoch [3/20]: 100%|██████████| 98/98 [00:16<00:00,  5.83it/s, loss=1.29]\n"
          ]
        },
        {
          "output_type": "stream",
          "name": "stdout",
          "text": [
            "Epoch [3/20], Average Loss: 1.3158\n",
            "Validation Loss: 1.1913\n"
          ]
        },
        {
          "output_type": "stream",
          "name": "stderr",
          "text": [
            "Epoch [4/20]: 100%|██████████| 98/98 [00:16<00:00,  5.85it/s, loss=1.12]\n"
          ]
        },
        {
          "output_type": "stream",
          "name": "stdout",
          "text": [
            "Epoch [4/20], Average Loss: 1.2409\n",
            "Validation Loss: 1.1171\n"
          ]
        },
        {
          "output_type": "stream",
          "name": "stderr",
          "text": [
            "Epoch [5/20]: 100%|██████████| 98/98 [00:16<00:00,  5.91it/s, loss=1.16]\n"
          ]
        },
        {
          "output_type": "stream",
          "name": "stdout",
          "text": [
            "Epoch [5/20], Average Loss: 1.1953\n",
            "Validation Loss: 1.1381\n"
          ]
        },
        {
          "output_type": "stream",
          "name": "stderr",
          "text": [
            "Epoch [6/20]: 100%|██████████| 98/98 [00:16<00:00,  5.98it/s, loss=1.17]\n"
          ]
        },
        {
          "output_type": "stream",
          "name": "stdout",
          "text": [
            "Epoch [6/20], Average Loss: 1.1560\n",
            "Validation Loss: 1.0262\n"
          ]
        },
        {
          "output_type": "stream",
          "name": "stderr",
          "text": [
            "Epoch [7/20]: 100%|██████████| 98/98 [00:17<00:00,  5.66it/s, loss=1.2]\n"
          ]
        },
        {
          "output_type": "stream",
          "name": "stdout",
          "text": [
            "Epoch [7/20], Average Loss: 1.1246\n",
            "Validation Loss: 1.0561\n"
          ]
        },
        {
          "output_type": "stream",
          "name": "stderr",
          "text": [
            "Epoch [8/20]: 100%|██████████| 98/98 [00:16<00:00,  5.88it/s, loss=1.05]\n"
          ]
        },
        {
          "output_type": "stream",
          "name": "stdout",
          "text": [
            "Epoch [8/20], Average Loss: 1.0875\n",
            "Validation Loss: 1.0967\n"
          ]
        },
        {
          "output_type": "stream",
          "name": "stderr",
          "text": [
            "Epoch [9/20]: 100%|██████████| 98/98 [00:16<00:00,  6.04it/s, loss=1.17]\n"
          ]
        },
        {
          "output_type": "stream",
          "name": "stdout",
          "text": [
            "Epoch [9/20], Average Loss: 1.0746\n",
            "Validation Loss: 1.0787\n"
          ]
        },
        {
          "output_type": "stream",
          "name": "stderr",
          "text": [
            "Epoch [10/20]: 100%|██████████| 98/98 [00:16<00:00,  5.85it/s, loss=1.11]\n"
          ]
        },
        {
          "output_type": "stream",
          "name": "stdout",
          "text": [
            "Epoch [10/20], Average Loss: 1.0551\n",
            "Validation Loss: 1.1360\n"
          ]
        },
        {
          "output_type": "stream",
          "name": "stderr",
          "text": [
            "Epoch [11/20]: 100%|██████████| 98/98 [00:17<00:00,  5.75it/s, loss=0.977]\n"
          ]
        },
        {
          "output_type": "stream",
          "name": "stdout",
          "text": [
            "Epoch [11/20], Average Loss: 1.0346\n",
            "Validation Loss: 0.9841\n"
          ]
        },
        {
          "output_type": "stream",
          "name": "stderr",
          "text": [
            "Epoch [12/20]: 100%|██████████| 98/98 [00:17<00:00,  5.60it/s, loss=0.892]\n"
          ]
        },
        {
          "output_type": "stream",
          "name": "stdout",
          "text": [
            "Epoch [12/20], Average Loss: 1.0196\n",
            "Validation Loss: 0.9830\n"
          ]
        },
        {
          "output_type": "stream",
          "name": "stderr",
          "text": [
            "Epoch [13/20]: 100%|██████████| 98/98 [00:16<00:00,  5.96it/s, loss=1.05]\n"
          ]
        },
        {
          "output_type": "stream",
          "name": "stdout",
          "text": [
            "Epoch [13/20], Average Loss: 1.0087\n",
            "Validation Loss: 0.9777\n"
          ]
        },
        {
          "output_type": "stream",
          "name": "stderr",
          "text": [
            "Epoch [14/20]: 100%|██████████| 98/98 [00:16<00:00,  5.98it/s, loss=1.02]\n"
          ]
        },
        {
          "output_type": "stream",
          "name": "stdout",
          "text": [
            "Epoch [14/20], Average Loss: 0.9920\n",
            "Validation Loss: 1.0810\n"
          ]
        },
        {
          "output_type": "stream",
          "name": "stderr",
          "text": [
            "Epoch [15/20]: 100%|██████████| 98/98 [00:17<00:00,  5.61it/s, loss=1.03]\n"
          ]
        },
        {
          "output_type": "stream",
          "name": "stdout",
          "text": [
            "Epoch [15/20], Average Loss: 0.9841\n",
            "Validation Loss: 0.9593\n"
          ]
        },
        {
          "output_type": "stream",
          "name": "stderr",
          "text": [
            "Epoch [16/20]: 100%|██████████| 98/98 [00:16<00:00,  5.97it/s, loss=0.912]\n"
          ]
        },
        {
          "output_type": "stream",
          "name": "stdout",
          "text": [
            "Epoch [16/20], Average Loss: 0.9657\n",
            "Validation Loss: 0.9231\n"
          ]
        },
        {
          "output_type": "stream",
          "name": "stderr",
          "text": [
            "Epoch [17/20]: 100%|██████████| 98/98 [00:16<00:00,  5.93it/s, loss=1.02]\n"
          ]
        },
        {
          "output_type": "stream",
          "name": "stdout",
          "text": [
            "Epoch [17/20], Average Loss: 0.9531\n",
            "Validation Loss: 1.0381\n"
          ]
        },
        {
          "output_type": "stream",
          "name": "stderr",
          "text": [
            "Epoch [18/20]: 100%|██████████| 98/98 [00:16<00:00,  5.91it/s, loss=0.892]\n"
          ]
        },
        {
          "output_type": "stream",
          "name": "stdout",
          "text": [
            "Epoch [18/20], Average Loss: 0.9419\n",
            "Validation Loss: 0.8954\n"
          ]
        },
        {
          "output_type": "stream",
          "name": "stderr",
          "text": [
            "Epoch [19/20]: 100%|██████████| 98/98 [00:17<00:00,  5.46it/s, loss=0.908]\n"
          ]
        },
        {
          "output_type": "stream",
          "name": "stdout",
          "text": [
            "Epoch [19/20], Average Loss: 0.9293\n",
            "Validation Loss: 0.8236\n"
          ]
        },
        {
          "output_type": "stream",
          "name": "stderr",
          "text": [
            "Epoch [20/20]: 100%|██████████| 98/98 [00:16<00:00,  5.91it/s, loss=0.95]\n"
          ]
        },
        {
          "output_type": "stream",
          "name": "stdout",
          "text": [
            "Epoch [20/20], Average Loss: 0.9227\n",
            "Validation Loss: 0.9075\n"
          ]
        }
      ],
      "source": [
        "# Placeholder for storing losses for each epoch\n",
        "losses = []\n",
        "losses_val = []\n",
        "\n",
        "# Training the model\n",
        "for epoch in range(num_epochs):\n",
        "\n",
        "    ######### TRAINING ##########\n",
        "    model.train()\n",
        "    running_loss = 0  # To track loss for this epoch\n",
        "\n",
        "    # Using tqdm for the progress bar\n",
        "    loop = tqdm(enumerate(train_loader), total=len(train_loader), leave=True)\n",
        "\n",
        "    for batch_idx, (data, targets) in loop:\n",
        "        # Get data to cuda if possible\n",
        "        data = data.to(device=device)\n",
        "        targets = targets.to(device=device)\n",
        "\n",
        "        # Forward pass\n",
        "        scores = model(data)\n",
        "        loss = criterion(scores, targets)\n",
        "\n",
        "        # Backward pass\n",
        "        optimizer.zero_grad()\n",
        "        loss.backward()\n",
        "\n",
        "        # Gradient descent step\n",
        "        optimizer.step()\n",
        "\n",
        "        # Accumulate loss\n",
        "        running_loss += loss.item()\n",
        "\n",
        "        # Update progress bar with loss and epoch information\n",
        "        loop.set_description(f\"Epoch [{epoch+1}/{num_epochs}]\")\n",
        "        loop.set_postfix(loss=loss.item())\n",
        "\n",
        "    # Calculate average loss for the epoch\n",
        "    avg_loss = running_loss / len(train_loader)\n",
        "    losses.append(avg_loss)\n",
        "\n",
        "    #scheduler\n",
        "    scheduler.step(avg_loss)\n",
        "\n",
        "    # Print loss for this epoch\n",
        "    tqdm.write(f\"Epoch [{epoch+1}/{num_epochs}], Average Loss: {avg_loss:.4f}\")\n",
        "\n",
        "    ####### VALIDATION ########\n",
        "    model.eval()\n",
        "    val_loss = 0\n",
        "\n",
        "    with torch.no_grad():\n",
        "        for data, targets in val_loader:\n",
        "            data = data.to(device=device)\n",
        "            targets = targets.to(device=device)\n",
        "\n",
        "            scores = model(data)\n",
        "            loss = criterion(scores, targets)\n",
        "            val_loss += loss.item()\n",
        "        # Calculate average loss for the epoch\n",
        "        avg_val_loss = val_loss / len(val_loader)\n",
        "        losses_val.append(avg_val_loss)\n",
        "        print(f\"Validation Loss: {avg_val_loss:.4f}\")\n",
        "        # if avg val_loss is better than the one before, save the model\n",
        "        if epoch == 0:\n",
        "            # create directory if not exist\n",
        "            os.makedirs(\"checkpoint\", exist_ok=True)\n",
        "            best_loss = avg_val_loss\n",
        "            torch.save(model.state_dict(), \"checkpoint/trained_model.pth\")\n",
        "        elif avg_val_loss < best_loss:\n",
        "            best_loss = avg_val_loss\n",
        "            torch.save(model.state_dict(), \"checkpoint/trained_model.pth\")\n",
        "\n"
      ]
    },
    {
      "cell_type": "code",
      "execution_count": null,
      "metadata": {
        "id": "5cn2k180ZEPn",
        "colab": {
          "base_uri": "https://localhost:8080/",
          "height": 380
        },
        "outputId": "3fd4fd5b-0cbf-49d1-dec8-53b904f886e0"
      },
      "outputs": [
        {
          "output_type": "stream",
          "name": "stdout",
          "text": [
            "Best validation loss: 0.8236\n"
          ]
        },
        {
          "output_type": "display_data",
          "data": {
            "text/plain": [
              "<Figure size 1500x500 with 1 Axes>"
            ],
            "image/png": "[encoded data removed]"
          },
          "metadata": {}
        }
      ],
      "source": [
        "# Plot the losses after training\n",
        "# epoch of best validation loss\n",
        "print(f\"Best validation loss: {best_loss:.4f}\")\n",
        "index_best = losses_val.index(best_loss)\n",
        "\n",
        "plt.figure(figsize=(15, 5))\n",
        "plt.plot(range(1,num_epochs+1), losses, label=\"Train Loss\")\n",
        "plt.plot(range(1,num_epochs+1), losses_val, label=\"Val Loss\")\n",
        "plt.axvline(index_best+1, color='r', linestyle='--', label=\"Best Val Loss\")\n",
        "plt.legend()\n",
        "plt.title(\"Loss vs Epochs\")\n",
        "plt.xlabel(\"Epochs\")\n",
        "plt.ylabel(\"Loss\")\n",
        "plt.grid()\n",
        "plt.show()"
      ]
    },
    {
      "cell_type": "markdown",
      "metadata": {
        "id": "uARakQoAZEPo"
      },
      "source": [
        "#### Your Turn (1 point)\n",
        "\n",
        "**Question**\n",
        "\n",
        "Q: *Based on what you've learned in the lectures and by examining the image above, identify the problems with this plot and explain how to fix them.*\n",
        "\n",
        "A: ..."
      ]
    },
    {
      "cell_type": "markdown",
      "metadata": {
        "id": "RwPSM1qbZEPq"
      },
      "source": [
        "### 1.5 Evaluation\n",
        "\n",
        "Now, let's evaluate the performances of our model"
      ]
    },
    {
      "cell_type": "code",
      "execution_count": null,
      "metadata": {
        "id": "X93ADS6rZEPr"
      },
      "outputs": [],
      "source": [
        "# accuracy\n",
        "def accuracy (model, loader):\n",
        "    '''\n",
        "    Function to calculate the accuracy of the model on the test set\n",
        "    '''\n",
        "    correct = 0\n",
        "    total = 0\n",
        "    for data, targets in loader:\n",
        "        data = data.to(device=device)\n",
        "        targets = targets.to(device=device)\n",
        "        scores = model(data)\n",
        "        _, predictions = scores.max(1)\n",
        "        correct += (predictions == targets).sum()\n",
        "        total += targets.shape[0]\n",
        "    return correct / total"
      ]
    },
    {
      "cell_type": "code",
      "execution_count": null,
      "metadata": {
        "colab": {
          "base_uri": "https://localhost:8080/"
        },
        "id": "amKye6PtZEPs",
        "outputId": "5a99069c-4d27-4b85-8ded-3fd5eb4afb9d"
      },
      "outputs": [
        {
          "output_type": "stream",
          "name": "stdout",
          "text": [
            "Your Model Train Accuracy : 72.3100\n",
            "Your Model Test Accuracy : 70.4875\n"
          ]
        }
      ],
      "source": [
        "# your model\n",
        "model = create_model()\n",
        "model.load_state_dict(torch.load('checkpoint/trained_model.pth', map_location=device, weights_only=True))\n",
        "model.eval()\n",
        "model.to(device)\n",
        "\n",
        "# Calculate accuracy on the train and test set\n",
        "train_accuracy = accuracy(model, train_loader)\n",
        "test_accuracy = accuracy(model, test_loader)\n",
        "\n",
        "print(f\"Your Model Train Accuracy : {100* train_accuracy:.4f}\")\n",
        "print(f\"Your Model Test Accuracy : {100* test_accuracy:.4f}\")"
      ]
    },
    {
      "cell_type": "markdown",
      "metadata": {
        "id": "nyhc8vcpZEPt"
      },
      "source": [
        "To avoid training for too many epochs, here it is a checkpoint you can use for the trained model."
      ]
    },
    {
      "cell_type": "code",
      "execution_count": null,
      "metadata": {
        "colab": {
          "base_uri": "https://localhost:8080/"
        },
        "id": "LlUOlVshZEPu",
        "outputId": "5e336947-42e8-4f27-b6c8-65aa575aae15"
      },
      "outputs": [
        {
          "output_type": "stream",
          "name": "stdout",
          "text": [
            "Train accuracy: 86.3800\n",
            "Test Accuracy: 80.9000\n"
          ]
        }
      ],
      "source": [
        "model = create_model()\n",
        "model.load_state_dict(torch.load(\"checkpoint/best_model.pth\", map_location=device, weights_only=True))\n",
        "model.eval()\n",
        "model.to(device)\n",
        "\n",
        "# Calculate the accuracy on the train and test set\n",
        "train_accuracy = accuracy(model, train_loader)\n",
        "test_accuracy = accuracy(model, test_loader)\n",
        "\n",
        "print(f\"Train accuracy: {100* train_accuracy:.4f}\")\n",
        "print(f\"Test Accuracy: {100* test_accuracy:.4f}\")"
      ]
    },
    {
      "cell_type": "markdown",
      "metadata": {
        "id": "zzbGQoEjZEPv"
      },
      "source": [
        "# Section 2: Unlearning"
      ]
    },
    {
      "cell_type": "markdown",
      "metadata": {
        "id": "OjjhJ_uNZEPw"
      },
      "source": [
        "In the context of machine learning, unlearning refers to the process of modifying a trained model so that it forgets specific pieces of information without losing the general performance. This is particularly important in situations where data privacy is a concern, such as when sensitive information is involved, or when a model has learned from outdated or incorrect data. In this scenario,\n",
        "you may want to unlearn an entire class of data, a specific instance within that class, or even a particular concept that the model has learned.\n",
        "\n",
        "**Why is Unlearning Important?**\n",
        "\n",
        "Let’s say you have trained a machine learning model to recognize different types of animals based on a dataset containing images. Now, suppose that this dataset includes images of a particular cat breed that was later found to be misclassified or problematic. You might need to remove that specific information from the model to ensure it doesn't make incorrect predictions in the future.\n",
        "\n",
        "Additionally, with privacy laws like GDPR (General Data Protection Regulation), individuals have the right to request that their personal data be removed from a model. If a model has been trained on this data, we need a way to unlearn it.\n",
        "\n",
        "Here, our task will be to unlearn the class of Airplanes in CIFAR-10 Dataset"
      ]
    },
    {
      "cell_type": "markdown",
      "metadata": {
        "id": "0fi38lXEZEPy"
      },
      "source": [
        "### Unlearning by Fine-Tuning\n",
        "\n",
        "The Unlearning by Fine-Tuning strategy is a technique used to remove the influence of specific data points from a trained machine learning model while preserving its performance on other, relevant data.\n",
        "Here’s a detailed explanation of how this strategy works:\n",
        "\n",
        "#### 1. The Retain Set\n",
        "\n",
        "The retain set consists of all the data points that you want the model to remember or continue to learn from. This set excludes the data points you want the model to forget.\n",
        "\n",
        "####  2. Fine-Tuning Process\n",
        "\n",
        "To perform unlearning through this strategy, you follow these steps:\n",
        "\n",
        "- Identify and Remove the Data Points: First, identify the data points that you wish to unlearn and remove them from the training dataset.\n",
        "\n",
        "- Prepare the Retain and Forget Set: Create a new training dataset that contains only the retain set, those data points that should be kept in the model’s knowledge, and include the remaing data in the Forget Set.\n",
        "\n",
        "- Fine-Tuning on the Retain Set: Instead of retraining the model from scratch, you will fine-tune the existing model using the retain set. This involves using the retain set to continue training the model, typically with a lower learning rate to ensure that the model can adjust its parameters without drastically altering what it has already learned.\n",
        "\n",
        "#### 3. Benefits of this strategy\n",
        "\n",
        "- Efficiency: Fine-tuning on the retain set only is more efficient than retraining the model from scratch. It saves computational resources and time.\n",
        "\n",
        "- Maintained Performance: The model retains its ability to perform well on the general dataset, as it continues to learn from the valid data in the retain set.\n",
        "\n",
        "#### 4. Drawbacks of this strategy\n",
        "\n",
        "- Even if more efficient than retraining the model from scratch, you still need to do a fine tuning, that could be very expensive for large or foundational models. Even finding the best hyperparameters can be costly.\n",
        "\n",
        "- If you change samples or architecture to unlearn, you have to do the ad-hoc fine tuning again, it is not a *general* strategy."
      ]
    },
    {
      "cell_type": "markdown",
      "metadata": {
        "id": "i7oL3vQxZEPz"
      },
      "source": [
        "### 2.1: Forget Airplanes"
      ]
    },
    {
      "cell_type": "markdown",
      "metadata": {
        "id": "AsUCerpwZEP1"
      },
      "source": [
        "#### Your Turn ( 1 Point)\n",
        "\n",
        "Generate the retain and forget datasets, keeping in mind that we want to forget the \"airplanes\" class. Afterward, create new instances of the loaders for training, validation, and testing. Make sure to use the torch.utils.data.Subset function."
      ]
    },
    {
      "cell_type": "code",
      "execution_count": null,
      "metadata": {
        "id": "x6ZDXFBDZEP2"
      },
      "outputs": [],
      "source": [
        "#train\n",
        "'''\n",
        "Add your code below\n",
        "'''\n",
        "# retain_indices_train = []\n",
        "# forget_indices_train = []\n",
        "# for i, target in enumerate(train_dataset.targets):\n",
        "#     if target != 0:  # If target is not 'airplane' (class 0)\n",
        "#         retain_indices_train.append(i)\n",
        "#     else:\n",
        "#         forget_indices_train.append(i)\n",
        "retain_indices_train = (torch.tensor(train_dataset.targets) != 0).nonzero().reshape(-1)\n",
        "forget_indices_train = (torch.tensor(train_dataset.targets) == 0).nonzero().reshape(-1)\n",
        "retain_dataset = torch.utils.data.Subset(train_dataset, retain_indices_train)\n",
        "forget_dataset = torch.utils.data.Subset(train_dataset, forget_indices_train)\n",
        "\n",
        "retain_loader = DataLoader(retain_dataset, batch_size=batch_size, shuffle=True)\n",
        "forget_loader = DataLoader(forget_dataset, batch_size=batch_size, shuffle=True)"
      ]
    },
    {
      "cell_type": "code",
      "execution_count": null,
      "metadata": {
        "id": "bTBhpLY1ZEP3"
      },
      "outputs": [],
      "source": [
        "#validation\n",
        "'''\n",
        "Add your code below\n",
        "'''\n",
        "\n",
        "# Extract targets and indices from the validation dataset\n",
        "targets = np.array(val_dataset.dataset.targets)\n",
        "indices = np.array(val_dataset.indices)\n",
        "\n",
        "# Use boolean indexing to select retain and forget indices\n",
        "retain_indices_val = indices[targets[indices] != 0]\n",
        "forget_indices_val = indices[targets[indices] == 0]\n",
        "\n",
        "# Convert to PyTorch tensors if needed\n",
        "retain_indices_val = torch.from_numpy(retain_indices_val)\n",
        "forget_indices_val = torch.from_numpy(forget_indices_val)\n",
        "\n",
        "retain_dataset_val = torch.utils.data.Subset(val_dataset.dataset, retain_indices_val)\n",
        "forget_dataset_val = torch.utils.data.Subset(val_dataset.dataset, forget_indices_val)\n",
        "\n",
        "retain_loader_val = DataLoader(retain_dataset_val, batch_size=batch_size, shuffle=False)\n",
        "forget_loader_val = DataLoader(forget_dataset_val, batch_size=batch_size, shuffle=False)"
      ]
    },
    {
      "cell_type": "code",
      "execution_count": null,
      "metadata": {
        "id": "acL5kS_BZEP5"
      },
      "outputs": [],
      "source": [
        "#test\n",
        "'''\n",
        "Add your code below\n",
        "'''\n",
        "# Extract targets and indices from the test dataset\n",
        "targets = np.array(test_dataset.dataset.targets)\n",
        "indices = np.array(test_dataset.indices)\n",
        "\n",
        "# Use boolean indexing for retain and forget indices\n",
        "retain_indices_test = indices[targets[indices] != 0]\n",
        "forget_indices_test = indices[targets[indices] == 0]\n",
        "\n",
        "# Convert to PyTorch tensors\n",
        "retain_indices_test = torch.from_numpy(retain_indices_test)\n",
        "forget_indices_test = torch.from_numpy(forget_indices_test)\n",
        "\n",
        "retain_dataset_test = torch.utils.data.Subset(test_dataset.dataset, retain_indices_test)\n",
        "forget_dataset_test = torch.utils.data.Subset(test_dataset.dataset, forget_indices_test)\n",
        "\n",
        "retain_loader_test = DataLoader(retain_dataset_test, batch_size=batch_size, shuffle=False)\n",
        "forget_loader_test = DataLoader(forget_dataset_test, batch_size=batch_size, shuffle=False)"
      ]
    },
    {
      "cell_type": "markdown",
      "metadata": {
        "id": "l_kFVaxfZEP7"
      },
      "source": [
        "### 2.2: Training Loop"
      ]
    },
    {
      "cell_type": "code",
      "execution_count": null,
      "metadata": {
        "id": "Rg-7RlCoZEP8"
      },
      "outputs": [],
      "source": [
        "def unlearning( model, retain_loader , validation, epochs = 5, criterion = criterion, optimizer = optimizer, scheduler = scheduler):\n",
        "    \"\"\"Unlearning by fine-tuning.\n",
        "\n",
        "    Fine-tuning is a very simple algorithm that trains using only\n",
        "    the retain set.\n",
        "\n",
        "    Args:\n",
        "      model : nn.Module.\n",
        "        pre-trained model to use as base of unlearning.\n",
        "      retain : torch.utils.data.DataLoader.\n",
        "        Dataset loader for access to the retain set. This is the subset\n",
        "        of the training set that we don't want to forget.\n",
        "      validation : torch.utils.data.DataLoader.\n",
        "        Dataset loader for access to the validation set. This method doesn't\n",
        "        make use of the validation set.\n",
        "    Returns:\n",
        "      model : updated model\n",
        "    \"\"\"\n",
        "    device = torch.device(\"cuda\" if torch.cuda.is_available() else \"cpu\")\n",
        "    model.to(device)\n",
        "    losses = []\n",
        "    losses_val = []\n",
        "\n",
        "    for epoch in range(epochs):\n",
        "        model.train()\n",
        "        loss_epoch = 0\n",
        "        loop = tqdm(enumerate(retain_loader), total=len(retain_loader), leave=True)\n",
        "        for batch_idx, (inputs, targets) in loop:\n",
        "            inputs, targets = inputs.to(device), targets.to(device)\n",
        "            optimizer.zero_grad()\n",
        "            outputs = model(inputs)\n",
        "            loss = criterion(outputs, targets)\n",
        "            loss.backward()\n",
        "            optimizer.step()\n",
        "\n",
        "            #running loss\n",
        "            loss_epoch += loss.item()\n",
        "            # Update progress bar with loss and epoch information\n",
        "            loop.set_description(f\"Epoch [{epoch+1}/{epochs}]\")\n",
        "            loop.set_postfix(loss=loss.item())\n",
        "\n",
        "        #avg loss\n",
        "        avg_loss = loss_epoch / len(retain_loader )\n",
        "        losses.append(avg_loss)\n",
        "        #scheduler step\n",
        "        scheduler.step(avg_loss)\n",
        "        tqdm.write(f\"Epoch [{epoch+1}/{epochs}], Average Loss: {avg_loss:.4f}\")\n",
        "\n",
        "        # validation\n",
        "        loss_val = 0\n",
        "        model.eval()\n",
        "        with torch.no_grad():\n",
        "            for data, targets in retain_loader_val:\n",
        "                data = data.to(device=device)\n",
        "                targets = targets.to(device=device)\n",
        "\n",
        "                scores = model(data)\n",
        "                loss = criterion(scores, targets)\n",
        "                loss_val += loss.item()\n",
        "            # Calculate average loss for the epoch\n",
        "            avg_val_loss = loss_val / len(validation)\n",
        "            losses_val.append(avg_val_loss)\n",
        "            print(f\"Validation Loss: {avg_val_loss:.4f}\")\n",
        "            # if avg val_loss is better than the one before, save the model\n",
        "            if epoch == 0:\n",
        "                # create directory if not exist\n",
        "                os.makedirs(\"checkpoint\", exist_ok=True)\n",
        "                best_loss = avg_val_loss\n",
        "                torch.save(model.state_dict(), \"checkpoint/forget_model.pth\")\n",
        "            elif avg_val_loss < best_loss:\n",
        "                best_loss = avg_val_loss\n",
        "                torch.save(model.state_dict(), \"checkpoint/forget_model.pth\")\n",
        "\n",
        "\n",
        "    model.eval()\n",
        "    model.load_state_dict(torch.load(\"checkpoint/forget_model.pth\", map_location=device, weights_only=True))\n",
        "    return model, losses, losses_val"
      ]
    },
    {
      "cell_type": "code",
      "execution_count": null,
      "metadata": {
        "id": "iOTfk5eDZEQL",
        "outputId": "4d310ed7-17a0-4c3b-865a-5a128d1bfa25",
        "colab": {
          "base_uri": "https://localhost:8080/"
        }
      },
      "outputs": [
        {
          "output_type": "stream",
          "name": "stderr",
          "text": [
            "Epoch [1/10]: 100%|██████████| 88/88 [00:16<00:00,  5.46it/s, loss=0.525]\n"
          ]
        },
        {
          "output_type": "stream",
          "name": "stdout",
          "text": [
            "Epoch [1/10], Average Loss: 0.5293\n",
            "Validation Loss: 0.5090\n"
          ]
        },
        {
          "output_type": "stream",
          "name": "stderr",
          "text": [
            "Epoch [2/10]: 100%|██████████| 88/88 [00:15<00:00,  5.70it/s, loss=0.466]\n"
          ]
        },
        {
          "output_type": "stream",
          "name": "stdout",
          "text": [
            "Epoch [2/10], Average Loss: 0.5030\n",
            "Validation Loss: 0.5081\n"
          ]
        },
        {
          "output_type": "stream",
          "name": "stderr",
          "text": [
            "Epoch [3/10]: 100%|██████████| 88/88 [00:16<00:00,  5.44it/s, loss=0.501]\n"
          ]
        },
        {
          "output_type": "stream",
          "name": "stdout",
          "text": [
            "Epoch [3/10], Average Loss: 0.4956\n",
            "Validation Loss: 0.5025\n"
          ]
        },
        {
          "output_type": "stream",
          "name": "stderr",
          "text": [
            "Epoch [4/10]: 100%|██████████| 88/88 [00:15<00:00,  5.77it/s, loss=0.457]\n"
          ]
        },
        {
          "output_type": "stream",
          "name": "stdout",
          "text": [
            "Epoch [4/10], Average Loss: 0.4902\n",
            "Validation Loss: 0.4990\n"
          ]
        },
        {
          "output_type": "stream",
          "name": "stderr",
          "text": [
            "Epoch [5/10]: 100%|██████████| 88/88 [00:15<00:00,  5.70it/s, loss=0.515]\n"
          ]
        },
        {
          "output_type": "stream",
          "name": "stdout",
          "text": [
            "Epoch [5/10], Average Loss: 0.4952\n",
            "Validation Loss: 0.5031\n"
          ]
        },
        {
          "output_type": "stream",
          "name": "stderr",
          "text": [
            "Epoch [6/10]: 100%|██████████| 88/88 [00:15<00:00,  5.72it/s, loss=0.497]\n"
          ]
        },
        {
          "output_type": "stream",
          "name": "stdout",
          "text": [
            "Epoch [6/10], Average Loss: 0.4886\n",
            "Validation Loss: 0.5040\n"
          ]
        },
        {
          "output_type": "stream",
          "name": "stderr",
          "text": [
            "Epoch [7/10]: 100%|██████████| 88/88 [00:15<00:00,  5.71it/s, loss=0.437]\n"
          ]
        },
        {
          "output_type": "stream",
          "name": "stdout",
          "text": [
            "Epoch [7/10], Average Loss: 0.4871\n",
            "Validation Loss: 0.5080\n"
          ]
        },
        {
          "output_type": "stream",
          "name": "stderr",
          "text": [
            "Epoch [8/10]: 100%|██████████| 88/88 [00:15<00:00,  5.57it/s, loss=0.468]\n"
          ]
        },
        {
          "output_type": "stream",
          "name": "stdout",
          "text": [
            "Epoch [8/10], Average Loss: 0.4889\n",
            "Validation Loss: 0.5028\n"
          ]
        },
        {
          "output_type": "stream",
          "name": "stderr",
          "text": [
            "Epoch [9/10]: 100%|██████████| 88/88 [00:16<00:00,  5.40it/s, loss=0.484]\n"
          ]
        },
        {
          "output_type": "stream",
          "name": "stdout",
          "text": [
            "Epoch [9/10], Average Loss: 0.4920\n",
            "Validation Loss: 0.4993\n"
          ]
        },
        {
          "output_type": "stream",
          "name": "stderr",
          "text": [
            "Epoch [10/10]: 100%|██████████| 88/88 [00:15<00:00,  5.68it/s, loss=0.402]\n"
          ]
        },
        {
          "output_type": "stream",
          "name": "stdout",
          "text": [
            "Epoch [10/10], Average Loss: 0.4807\n",
            "Validation Loss: 0.4982\n"
          ]
        }
      ],
      "source": [
        "# intialize forget model as trained model\n",
        "forget_model = create_model()\n",
        "forget_model.load_state_dict(torch.load(\"checkpoint/best_model.pth\", map_location=device, weights_only=True))\n",
        "\n",
        "criterion = nn.CrossEntropyLoss()\n",
        "optimizer = torch.optim.Adam(forget_model.parameters(), lr=0.0001)\n",
        "scheduler = torch.optim.lr_scheduler.ReduceLROnPlateau(optimizer, mode='min', factor=0.1, patience=3, verbose=True)\n",
        "\n",
        "\n",
        "# Unlearn the forget set\n",
        "epochs = 10\n",
        "forget_model, losses, losses_val = unlearning(forget_model, retain_loader, val_loader, epochs=epochs, criterion=criterion, optimizer=optimizer, scheduler=scheduler)"
      ]
    },
    {
      "cell_type": "markdown",
      "metadata": {
        "id": "9YTdHW8vZEQV"
      },
      "source": [
        "**Below there is the evaluation of your unlearned by fine-tuning model**"
      ]
    },
    {
      "cell_type": "code",
      "execution_count": null,
      "metadata": {
        "id": "ueqfAk-jZEQW",
        "outputId": "eb97d09d-706f-4489-eca1-1e85aa0ecf22",
        "colab": {
          "base_uri": "https://localhost:8080/"
        }
      },
      "outputs": [
        {
          "output_type": "stream",
          "name": "stdout",
          "text": [
            "Retain set Accuracy: 88.8622\n",
            "Forget set Accuracy: 30.8800\n",
            "Test set Accuracy: 77.3125\n",
            "Test set Retain Accuracy: 83.2222\n",
            "Test set Forget Accuracy: 24.1250\n"
          ]
        }
      ],
      "source": [
        "# load weights forget model\n",
        "forget_model = create_model()\n",
        "forget_model.load_state_dict(torch.load(\"checkpoint/forget_model.pth\", map_location=device, weights_only=True));\n",
        "forget_model.eval()\n",
        "forget_model.to(device);\n",
        "\n",
        "# print accuracies on retain, forget and test set\n",
        "retain_accuracy = accuracy(forget_model, retain_loader)\n",
        "forget_accuracy = accuracy(forget_model, forget_loader)\n",
        "test_accuracy = accuracy(forget_model, test_loader)\n",
        "test_accuracy_retain = accuracy(forget_model, retain_loader_test)\n",
        "test_accuracy_forget = accuracy(forget_model, forget_loader_test)\n",
        "\n",
        "print(f\"Retain set Accuracy: {100* retain_accuracy:.4f}\")\n",
        "print(f\"Forget set Accuracy: {100* forget_accuracy:.4f}\")\n",
        "print(f\"Test set Accuracy: {100* test_accuracy:.4f}\") # whole test set\n",
        "print(f\"Test set Retain Accuracy: {100* test_accuracy_retain:.4f}\")\n",
        "print(f\"Test set Forget Accuracy: {100* test_accuracy_forget:.4f}\")"
      ]
    },
    {
      "cell_type": "markdown",
      "metadata": {
        "id": "ltdbWSffZEQX"
      },
      "source": [
        "#### Your Turn (1 Point)\n",
        "\n",
        "**Question**\n",
        "\n",
        "Q: *Summarize what you have learned. Specifically, interpret the accuracy values for the retain and forget sets during training. Additionally, discuss what can be inferred from the accuracy at test time for the entire test set, as well as for the two subsets of forget and retain.*\n",
        "\n",
        "A: ..."
      ]
    },
    {
      "cell_type": "markdown",
      "metadata": {
        "id": "z4Bc6D1EZEQY"
      },
      "source": [
        "# Section 3: Gold model"
      ]
    },
    {
      "cell_type": "markdown",
      "metadata": {
        "id": "ajho7aZjZEQZ"
      },
      "source": [
        "One might ask, how good are the scores above? What is the best possible score? Since our goal is to approximate a model that has been trained **only on** the retain set, we'll consider that the gold standard is the score achieved by this model. Such a model is called here the *gold model*."
      ]
    },
    {
      "cell_type": "code",
      "execution_count": null,
      "metadata": {
        "id": "V77QukL8ZEQa"
      },
      "outputs": [],
      "source": [
        "# train only on retain set\n",
        "gold_model = create_model()\n",
        "gold_model.load_state_dict(torch.load(\"checkpoint/model_weights.pth\", map_location=device, weights_only=True))\n",
        "gold_model.to(device);\n",
        "\n",
        "criterion = nn.CrossEntropyLoss()\n",
        "optimizer = torch.optim.Adam(gold_model.parameters(), lr=0.0001)\n",
        "scheduler = torch.optim.lr_scheduler.ReduceLROnPlateau(optimizer, mode='min', factor=0.1, patience=5, verbose=True)\n",
        "num_epochs = 20"
      ]
    },
    {
      "cell_type": "markdown",
      "metadata": {
        "id": "VGqvDEG4ZEQc"
      },
      "source": [
        "#### Your Turn ( 1 Point)\n",
        "\n",
        "Implement the training loop for the Gold Model. Store you losses inside the ```losses``` and ```losses_val``` lists.\n",
        "\n",
        "**IMPORTANT: save the best checkpoint of this model to a checkpoint file called \"checkpoint/gold_model.pth\"**"
      ]
    },
    {
      "cell_type": "code",
      "execution_count": null,
      "metadata": {
        "id": "DAh9pW24ZEQc",
        "colab": {
          "base_uri": "https://localhost:8080/"
        },
        "outputId": "a12beecc-ad3f-4eee-9a67-2938c65b6485"
      },
      "outputs": [
        {
          "output_type": "stream",
          "name": "stderr",
          "text": [
            "Epoch [1/20]: 100%|██████████| 88/88 [00:16<00:00,  5.42it/s, loss=2.16]\n"
          ]
        },
        {
          "output_type": "stream",
          "name": "stdout",
          "text": [
            "Epoch [1/20], Average Loss: 2.2302\n",
            "Validation Loss: 2.1478\n"
          ]
        },
        {
          "output_type": "stream",
          "name": "stderr",
          "text": [
            "Epoch [2/20]: 100%|██████████| 88/88 [00:15<00:00,  5.54it/s, loss=2.02]\n"
          ]
        },
        {
          "output_type": "stream",
          "name": "stdout",
          "text": [
            "Epoch [2/20], Average Loss: 2.0947\n",
            "Validation Loss: 2.0095\n"
          ]
        },
        {
          "output_type": "stream",
          "name": "stderr",
          "text": [
            "Epoch [3/20]: 100%|██████████| 88/88 [00:15<00:00,  5.66it/s, loss=1.9]\n"
          ]
        },
        {
          "output_type": "stream",
          "name": "stdout",
          "text": [
            "Epoch [3/20], Average Loss: 1.9583\n",
            "Validation Loss: 1.8514\n"
          ]
        },
        {
          "output_type": "stream",
          "name": "stderr",
          "text": [
            "Epoch [4/20]: 100%|██████████| 88/88 [00:15<00:00,  5.74it/s, loss=1.75]\n"
          ]
        },
        {
          "output_type": "stream",
          "name": "stdout",
          "text": [
            "Epoch [4/20], Average Loss: 1.8272\n",
            "Validation Loss: 1.7281\n"
          ]
        },
        {
          "output_type": "stream",
          "name": "stderr",
          "text": [
            "Epoch [5/20]: 100%|██████████| 88/88 [00:16<00:00,  5.46it/s, loss=1.65]\n"
          ]
        },
        {
          "output_type": "stream",
          "name": "stdout",
          "text": [
            "Epoch [5/20], Average Loss: 1.7137\n",
            "Validation Loss: 1.6420\n"
          ]
        },
        {
          "output_type": "stream",
          "name": "stderr",
          "text": [
            "Epoch [6/20]: 100%|██████████| 88/88 [00:15<00:00,  5.51it/s, loss=1.56]\n"
          ]
        },
        {
          "output_type": "stream",
          "name": "stdout",
          "text": [
            "Epoch [6/20], Average Loss: 1.6263\n",
            "Validation Loss: 1.5479\n"
          ]
        },
        {
          "output_type": "stream",
          "name": "stderr",
          "text": [
            "Epoch [7/20]: 100%|██████████| 88/88 [00:15<00:00,  5.72it/s, loss=1.55]\n"
          ]
        },
        {
          "output_type": "stream",
          "name": "stdout",
          "text": [
            "Epoch [7/20], Average Loss: 1.5488\n",
            "Validation Loss: 1.4728\n"
          ]
        },
        {
          "output_type": "stream",
          "name": "stderr",
          "text": [
            "Epoch [8/20]: 100%|██████████| 88/88 [00:15<00:00,  5.75it/s, loss=1.48]\n"
          ]
        },
        {
          "output_type": "stream",
          "name": "stdout",
          "text": [
            "Epoch [8/20], Average Loss: 1.4910\n",
            "Validation Loss: 1.4052\n"
          ]
        },
        {
          "output_type": "stream",
          "name": "stderr",
          "text": [
            "Epoch [9/20]: 100%|██████████| 88/88 [00:15<00:00,  5.70it/s, loss=1.36]\n"
          ]
        },
        {
          "output_type": "stream",
          "name": "stdout",
          "text": [
            "Epoch [9/20], Average Loss: 1.4368\n",
            "Validation Loss: 1.3513\n"
          ]
        },
        {
          "output_type": "stream",
          "name": "stderr",
          "text": [
            "Epoch [10/20]: 100%|██████████| 88/88 [00:15<00:00,  5.64it/s, loss=1.4]\n"
          ]
        },
        {
          "output_type": "stream",
          "name": "stdout",
          "text": [
            "Epoch [10/20], Average Loss: 1.3915\n",
            "Validation Loss: 1.3052\n"
          ]
        },
        {
          "output_type": "stream",
          "name": "stderr",
          "text": [
            "Epoch [11/20]: 100%|██████████| 88/88 [00:16<00:00,  5.45it/s, loss=1.3]\n"
          ]
        },
        {
          "output_type": "stream",
          "name": "stdout",
          "text": [
            "Epoch [11/20], Average Loss: 1.3548\n",
            "Validation Loss: 1.2538\n"
          ]
        },
        {
          "output_type": "stream",
          "name": "stderr",
          "text": [
            "Epoch [12/20]: 100%|██████████| 88/88 [00:15<00:00,  5.57it/s, loss=1.28]\n"
          ]
        },
        {
          "output_type": "stream",
          "name": "stdout",
          "text": [
            "Epoch [12/20], Average Loss: 1.3170\n",
            "Validation Loss: 1.2288\n"
          ]
        },
        {
          "output_type": "stream",
          "name": "stderr",
          "text": [
            "Epoch [13/20]: 100%|██████████| 88/88 [00:15<00:00,  5.67it/s, loss=1.33]\n"
          ]
        },
        {
          "output_type": "stream",
          "name": "stdout",
          "text": [
            "Epoch [13/20], Average Loss: 1.2925\n",
            "Validation Loss: 1.2018\n"
          ]
        },
        {
          "output_type": "stream",
          "name": "stderr",
          "text": [
            "Epoch [14/20]: 100%|██████████| 88/88 [00:15<00:00,  5.70it/s, loss=1.27]\n"
          ]
        },
        {
          "output_type": "stream",
          "name": "stdout",
          "text": [
            "Epoch [14/20], Average Loss: 1.2662\n",
            "Validation Loss: 1.1627\n"
          ]
        },
        {
          "output_type": "stream",
          "name": "stderr",
          "text": [
            "Epoch [15/20]: 100%|██████████| 88/88 [00:15<00:00,  5.75it/s, loss=1.25]\n"
          ]
        },
        {
          "output_type": "stream",
          "name": "stdout",
          "text": [
            "Epoch [15/20], Average Loss: 1.2450\n",
            "Validation Loss: 1.1609\n"
          ]
        },
        {
          "output_type": "stream",
          "name": "stderr",
          "text": [
            "Epoch [16/20]: 100%|██████████| 88/88 [00:15<00:00,  5.59it/s, loss=1.15]\n"
          ]
        },
        {
          "output_type": "stream",
          "name": "stdout",
          "text": [
            "Epoch [16/20], Average Loss: 1.2239\n",
            "Validation Loss: 1.1457\n"
          ]
        },
        {
          "output_type": "stream",
          "name": "stderr",
          "text": [
            "Epoch [17/20]: 100%|██████████| 88/88 [00:16<00:00,  5.18it/s, loss=1.21]\n"
          ]
        },
        {
          "output_type": "stream",
          "name": "stdout",
          "text": [
            "Epoch [17/20], Average Loss: 1.2051\n",
            "Validation Loss: 1.1191\n"
          ]
        },
        {
          "output_type": "stream",
          "name": "stderr",
          "text": [
            "Epoch [18/20]: 100%|██████████| 88/88 [00:15<00:00,  5.68it/s, loss=1.15]\n"
          ]
        },
        {
          "output_type": "stream",
          "name": "stdout",
          "text": [
            "Epoch [18/20], Average Loss: 1.1940\n",
            "Validation Loss: 1.0864\n"
          ]
        },
        {
          "output_type": "stream",
          "name": "stderr",
          "text": [
            "Epoch [19/20]: 100%|██████████| 88/88 [00:15<00:00,  5.70it/s, loss=1.18]\n"
          ]
        },
        {
          "output_type": "stream",
          "name": "stdout",
          "text": [
            "Epoch [19/20], Average Loss: 1.1787\n",
            "Validation Loss: 1.1027\n"
          ]
        },
        {
          "output_type": "stream",
          "name": "stderr",
          "text": [
            "Epoch [20/20]: 100%|██████████| 88/88 [00:15<00:00,  5.76it/s, loss=1.17]\n"
          ]
        },
        {
          "output_type": "stream",
          "name": "stdout",
          "text": [
            "Epoch [20/20], Average Loss: 1.1662\n",
            "Validation Loss: 1.0901\n"
          ]
        }
      ],
      "source": [
        "# **IMPORTANT: save the best checkpoint of this model to a checkpoint file called \"checkpoint/gold_model.pth\"**\n",
        "'''\n",
        "Add your code below\n",
        "'''\n",
        "# Placeholder for storing losses for each epoch\n",
        "losses = []\n",
        "losses_val = []\n",
        "best_loss = float('inf')  # Initialize with a large value\n",
        "\n",
        "# Training the model\n",
        "for epoch in range(num_epochs):\n",
        "\n",
        "    ######### TRAINING ##########\n",
        "    gold_model.train()\n",
        "    running_loss = 0  # To track loss for this epoch\n",
        "\n",
        "    # Using tqdm for the progress bar\n",
        "    loop = tqdm(enumerate(retain_loader), total=len(retain_loader), leave=True)\n",
        "\n",
        "    for batch_idx, (data, targets) in loop:\n",
        "        # Get data to cuda if possible\n",
        "        data = data.to(device=device)\n",
        "        targets = targets.to(device=device)\n",
        "\n",
        "        # Forward pass\n",
        "        scores = gold_model(data)\n",
        "        loss = criterion(scores, targets)\n",
        "\n",
        "        # Backward pass\n",
        "        optimizer.zero_grad()\n",
        "        loss.backward()\n",
        "\n",
        "        # Gradient descent step\n",
        "        optimizer.step()\n",
        "\n",
        "        # Accumulate loss\n",
        "        running_loss += loss.item()\n",
        "\n",
        "        # Update progress bar with loss and epoch information\n",
        "        loop.set_description(f\"Epoch [{epoch+1}/{num_epochs}]\")\n",
        "        loop.set_postfix(loss=loss.item())\n",
        "\n",
        "    # Calculate average loss for the epoch\n",
        "    avg_loss = running_loss / len(retain_loader)\n",
        "    losses.append(avg_loss)\n",
        "\n",
        "    #scheduler\n",
        "    scheduler.step(avg_loss)\n",
        "\n",
        "    # Print loss for this epoch\n",
        "    tqdm.write(f\"Epoch [{epoch+1}/{num_epochs}], Average Loss: {avg_loss:.4f}\")\n",
        "\n",
        "    ####### VALIDATION ########\n",
        "    gold_model.eval()\n",
        "    val_loss = 0\n",
        "\n",
        "    with torch.no_grad():\n",
        "        for data, targets in retain_loader_val:  # Use retain_loader_val for validation\n",
        "            data = data.to(device=device)\n",
        "            targets = targets.to(device=device)\n",
        "\n",
        "            scores = gold_model(data)\n",
        "            loss = criterion(scores, targets)\n",
        "            val_loss += loss.item()\n",
        "\n",
        "        # Calculate average loss for the epoch\n",
        "        avg_val_loss = val_loss / len(retain_loader_val)  # Use retain_loader_val for length\n",
        "        losses_val.append(avg_val_loss)\n",
        "        print(f\"Validation Loss: {avg_val_loss:.4f}\")\n",
        "\n",
        "        # Save the best model checkpoint\n",
        "        if avg_val_loss < best_loss:\n",
        "            best_loss = avg_val_loss\n",
        "            torch.save(gold_model.state_dict(), \"checkpoint/gold_model.pth\")"
      ]
    },
    {
      "cell_type": "code",
      "execution_count": null,
      "metadata": {
        "id": "3YOD9mYOZEQd",
        "outputId": "76a3da82-a64d-4821-d9ef-245744d204b9",
        "colab": {
          "base_uri": "https://localhost:8080/",
          "height": 380
        }
      },
      "outputs": [
        {
          "output_type": "stream",
          "name": "stdout",
          "text": [
            "Best validation loss: 1.0864\n"
          ]
        },
        {
          "output_type": "display_data",
          "data": {
            "text/plain": [
              "<Figure size 1500x500 with 1 Axes>"
            ],
            "image/png": "[encoded data removed]"
          },
          "metadata": {}
        }
      ],
      "source": [
        "#epoch of best validation loss\n",
        "print(f\"Best validation loss: {best_loss:.4f}\")\n",
        "index_best = losses_val.index(best_loss)\n",
        "\n",
        "plt.figure(figsize=(15, 5))\n",
        "plt.plot(losses, label=\"Train Loss\")\n",
        "plt.plot(losses_val, label=\"Val Loss\")\n",
        "plt.axvline(index_best, color='r', linestyle='--', label=\"Best Val Loss\")\n",
        "plt.legend()\n",
        "plt.title(\"Loss vs Epochs\")\n",
        "plt.xlabel(\"Epochs\")\n",
        "plt.ylabel(\"Loss\")\n",
        "plt.grid()\n",
        "plt.show()"
      ]
    },
    {
      "cell_type": "markdown",
      "metadata": {
        "id": "O_1WLufiZEQf"
      },
      "source": [
        "**Below there is the evaluation of the gold model**"
      ]
    },
    {
      "cell_type": "code",
      "execution_count": null,
      "metadata": {
        "id": "ruNoJBycZEQg",
        "outputId": "1b1fa5e6-ed8d-4e3e-b570-ec8e548290a2",
        "colab": {
          "base_uri": "https://localhost:8080/"
        }
      },
      "outputs": [
        {
          "output_type": "stream",
          "name": "stderr",
          "text": [
            "<ipython-input-29-6b6d4f58631d>:3: FutureWarning: You are using `torch.load` with `weights_only=False` (the current default value), which uses the default pickle module implicitly. It is possible to construct malicious pickle data which will execute arbitrary code during unpickling (See https://github.com/pytorch/pytorch/blob/main/SECURITY.md#untrusted-models for more details). In a future release, the default value for `weights_only` will be flipped to `True`. This limits the functions that could be executed during unpickling. Arbitrary objects will no longer be allowed to be loaded via this mode unless they are explicitly allowlisted by the user via `torch.serialization.add_safe_globals`. We recommend you start setting `weights_only=True` for any use case where you don't have full control of the loaded file. Please open an issue on GitHub for any issues related to this experimental feature.\n",
            "  gold_model.load_state_dict(torch.load(\"checkpoint/gold_model.pth\"))\n"
          ]
        },
        {
          "output_type": "stream",
          "name": "stdout",
          "text": [
            "Retain set Accuracy: 59.7600\n",
            "Forget set Accuracy: 0.0000\n",
            "Test set Accuracy: 53.0625\n",
            "Test set Retain Accuracy: 58.9583\n",
            "Test set Forget Accuracy: 0.0000\n"
          ]
        }
      ],
      "source": [
        "# load weights gold model\n",
        "gold_model = create_model()\n",
        "gold_model.load_state_dict(torch.load(\"checkpoint/gold_model.pth\"))\n",
        "gold_model.eval()\n",
        "gold_model.to(device);\n",
        "\n",
        "# print accuracies on retain, forget and test set\n",
        "retain_accuracy = accuracy(gold_model, retain_loader)\n",
        "forget_accuracy = accuracy(gold_model, forget_loader)\n",
        "test_accuracy = accuracy(gold_model, test_loader)\n",
        "test_accuracy_retain = accuracy(gold_model, retain_loader_test)\n",
        "test_accuracy_forget = accuracy(gold_model, forget_loader_test)\n",
        "\n",
        "print(f\"Retain set Accuracy: {100* retain_accuracy:.4f}\")\n",
        "print(f\"Forget set Accuracy: {100* forget_accuracy:.4f}\")\n",
        "print(f\"Test set Accuracy: {100* test_accuracy:.4f}\")\n",
        "print(f\"Test set Retain Accuracy: {100* test_accuracy_retain:.4f}\")\n",
        "print(f\"Test set Forget Accuracy: {100* test_accuracy_forget:.4f}\")"
      ]
    },
    {
      "cell_type": "markdown",
      "metadata": {
        "id": "qkm0TwSpZEQi"
      },
      "source": [
        "#### Your Turn\n",
        "\n",
        "**Question**\n",
        "\n",
        "Q: *Explain the results of the Gold Model. Did you notice something strange?*\n",
        "\n",
        "A: The Gold Model was trained solely on the retain set (data without airplanes). Here's a breakdown of the accuracies:\n",
        "\n",
        "**Retain set Accuracy: 59.7600%** This is the accuracy on the data the model was explicitly trained on. It represents the model's ability to classify the remaining 9 classes (excluding airplanes) correctly.\n",
        "\n",
        "**Forget set Accuracy: 0.0000%** This is the accuracy on the \"forget\" set (airplanes). Ideally, we want this to be very low, as it means the model is not accurately recognizing the unlearned class. The 0% accuracy here indicates that the model has indeed \"forgotten\" the airplane class.\n",
        "\n",
        "**Test set Accuracy: 53.0625%** This is the overall accuracy on the entire test dataset (containing all 10 classes). Since the model was not trained on airplanes, we expect this overall accuracy to be lower compared to the original model.\n",
        "\n",
        "**Test set Retain Accuracy: 58.9583%** Accuracy on the retain set within the test set. Shows the model's performance on the retained 9 classes within a real-world testing scenario.\n",
        "\n",
        "**Test set Forget Accuracy: 0.0000%** Accuracy on the forget set within the test set. Again, this being 0% confirms the forgetting is working as intended.\n"
      ]
    },
    {
      "cell_type": "markdown",
      "metadata": {
        "id": "Mthw7uz3ZEQj"
      },
      "source": [
        "# Section 5: Mia attacks"
      ]
    },
    {
      "cell_type": "markdown",
      "metadata": {
        "id": "3l4qVYdKZEQk"
      },
      "source": [
        "In this section, we'll quantify the quality of the unlearning algorithm through a simple membership inference attack (MIA).\n",
        "MIAs are a type of adversarial attack aimed at determining whether a specific data point was included in the training dataset of a machine learning model. These attacks exploit the behavior of the model to make inferences about the presence or absence of certain data points.\n",
        "This MIA consists of a logistic regression model that predicts whether the model was trained on a particular sample from that sample's loss.\n",
        "\n"
      ]
    },
    {
      "cell_type": "code",
      "execution_count": null,
      "metadata": {
        "id": "t1kSqOgzZEQk"
      },
      "outputs": [],
      "source": [
        "def compute_losses(model, loader, criterion = \"CrossEntropy\"):\n",
        "\n",
        "    \"\"\"\n",
        "    Auxiliary function to compute per-sample losses\n",
        "    Args:\n",
        "    model : model to evaluate\n",
        "    loader : data loader\n",
        "    criterion : loss function. Specify \"CrossEntropy\" for cross-entropy loss or \"KL\" for KL divergence\n",
        "    \"\"\"\n",
        "\n",
        "    device = torch.device(\"cuda\" if torch.cuda.is_available() else \"cpu\")\n",
        "    all_losses = []\n",
        "\n",
        "    for inputs, targets in loader:\n",
        "        inputs, targets = inputs.to(device), targets.to(device)\n",
        "        logits = model(inputs)\n",
        "        losses = nn.CrossEntropyLoss(reduction = \"none\")(logits, targets).detach().cpu().numpy()\n",
        "\n",
        "        for l in losses:\n",
        "            all_losses.append(l)\n",
        "\n",
        "    return np.array(all_losses)\n"
      ]
    },
    {
      "cell_type": "code",
      "execution_count": null,
      "metadata": {
        "id": "CpElWdCmZEQo",
        "colab": {
          "base_uri": "https://localhost:8080/"
        },
        "outputId": "9d6b5ca5-76f5-4c99-a969-7137e68fa361"
      },
      "outputs": [
        {
          "output_type": "stream",
          "name": "stderr",
          "text": [
            "<ipython-input-31-f9c6c668a82f>:3: FutureWarning: You are using `torch.load` with `weights_only=False` (the current default value), which uses the default pickle module implicitly. It is possible to construct malicious pickle data which will execute arbitrary code during unpickling (See https://github.com/pytorch/pytorch/blob/main/SECURITY.md#untrusted-models for more details). In a future release, the default value for `weights_only` will be flipped to `True`. This limits the functions that could be executed during unpickling. Arbitrary objects will no longer be allowed to be loaded via this mode unless they are explicitly allowlisted by the user via `torch.serialization.add_safe_globals`. We recommend you start setting `weights_only=True` for any use case where you don't have full control of the loaded file. Please open an issue on GitHub for any issues related to this experimental feature.\n",
            "  model.load_state_dict(torch.load(\"checkpoint/best_model.pth\"));\n"
          ]
        }
      ],
      "source": [
        "#model\n",
        "model = create_model()\n",
        "model.load_state_dict(torch.load(\"checkpoint/best_model.pth\"));\n",
        "model.eval()\n",
        "model.to(device);\n",
        "\n",
        "retain_losses = compute_losses(model, retain_loader_test)\n",
        "forget_losses = compute_losses(model, forget_loader_test)\n"
      ]
    },
    {
      "cell_type": "code",
      "execution_count": null,
      "metadata": {
        "id": "QH8Lig40ZEQq",
        "colab": {
          "base_uri": "https://localhost:8080/"
        },
        "outputId": "d5d0123d-f95f-4b2a-b6df-e8a6b0cc9db7"
      },
      "outputs": [
        {
          "output_type": "stream",
          "name": "stderr",
          "text": [
            "<ipython-input-32-5d11afc7d1f9>:3: FutureWarning: You are using `torch.load` with `weights_only=False` (the current default value), which uses the default pickle module implicitly. It is possible to construct malicious pickle data which will execute arbitrary code during unpickling (See https://github.com/pytorch/pytorch/blob/main/SECURITY.md#untrusted-models for more details). In a future release, the default value for `weights_only` will be flipped to `True`. This limits the functions that could be executed during unpickling. Arbitrary objects will no longer be allowed to be loaded via this mode unless they are explicitly allowlisted by the user via `torch.serialization.add_safe_globals`. We recommend you start setting `weights_only=True` for any use case where you don't have full control of the loaded file. Please open an issue on GitHub for any issues related to this experimental feature.\n",
            "  forget_model.load_state_dict(torch.load(\"checkpoint/forget_model.pth\"));\n"
          ]
        }
      ],
      "source": [
        "# forget model\n",
        "forget_model = create_model()\n",
        "forget_model.load_state_dict(torch.load(\"checkpoint/forget_model.pth\"));\n",
        "forget_model.eval()\n",
        "forget_model.to(device);\n",
        "\n",
        "retain_losses_forget = compute_losses(forget_model, retain_loader_test)\n",
        "forget_losses_forget = compute_losses(forget_model, forget_loader_test)\n"
      ]
    },
    {
      "cell_type": "code",
      "execution_count": null,
      "metadata": {
        "id": "UdMa2djzZEQr",
        "colab": {
          "base_uri": "https://localhost:8080/"
        },
        "outputId": "85f185d1-c8da-415e-bacd-0fe82f58fd68"
      },
      "outputs": [
        {
          "output_type": "stream",
          "name": "stderr",
          "text": [
            "<ipython-input-33-b71f6c8518b8>:3: FutureWarning: You are using `torch.load` with `weights_only=False` (the current default value), which uses the default pickle module implicitly. It is possible to construct malicious pickle data which will execute arbitrary code during unpickling (See https://github.com/pytorch/pytorch/blob/main/SECURITY.md#untrusted-models for more details). In a future release, the default value for `weights_only` will be flipped to `True`. This limits the functions that could be executed during unpickling. Arbitrary objects will no longer be allowed to be loaded via this mode unless they are explicitly allowlisted by the user via `torch.serialization.add_safe_globals`. We recommend you start setting `weights_only=True` for any use case where you don't have full control of the loaded file. Please open an issue on GitHub for any issues related to this experimental feature.\n",
            "  gold_model.load_state_dict(torch.load(\"checkpoint/gold_model.pth\"));\n"
          ]
        }
      ],
      "source": [
        "# gold model\n",
        "gold_model = create_model()\n",
        "gold_model.load_state_dict(torch.load(\"checkpoint/gold_model.pth\"));\n",
        "gold_model.eval()\n",
        "gold_model.to(device);\n",
        "\n",
        "retain_losses_gold = compute_losses(gold_model, retain_loader_test)\n",
        "forget_losses_gold = compute_losses(gold_model, forget_loader_test)"
      ]
    },
    {
      "cell_type": "code",
      "execution_count": null,
      "metadata": {
        "id": "zys_jilTZEQs",
        "outputId": "5278b945-f75c-4ec6-bf66-0112d2909e03",
        "colab": {
          "base_uri": "https://localhost:8080/",
          "height": 285
        }
      },
      "outputs": [
        {
          "output_type": "display_data",
          "data": {
            "text/plain": [
              "<Figure size 2000x500 with 3 Axes>"
            ],
            "image/png": "[encoded data removed]"
          },
          "metadata": {}
        }
      ],
      "source": [
        "# 3 plots woth ax of histograms\n",
        "fig, axs = plt.subplots(1, 3, figsize=(20, 5))\n",
        "\n",
        "#subsample retrain losses to have the same size as the forget losses\n",
        "random_idx = np.random.choice(np.arange(len(retain_losses)), len(forget_losses), replace=False)\n",
        "retain_losses = retain_losses[random_idx]\n",
        "retain_losses_forget = retain_losses_forget[random_idx]\n",
        "retain_losses_gold = retain_losses_gold[random_idx]\n",
        "\n",
        "\n",
        "axs[0].hist(retain_losses, density = True, bins=50, alpha=0.5, label='Retain', color='blue')\n",
        "axs[0].hist(forget_losses, density = True, bins=50, alpha=0.5, label='Forget', color='red')\n",
        "axs[0].set_title('Model')\n",
        "axs[0].set_xlabel('Loss')\n",
        "axs[0].legend()\n",
        "\n",
        "axs[1].hist(retain_losses_forget, density = True, bins=50, alpha=0.5, label='Retain', color='blue')\n",
        "axs[1].hist(forget_losses_forget, density = True, bins=50, alpha=0.5, label='Forget', color='red')\n",
        "axs[1].set_title('Forget Model')\n",
        "axs[1].set_xlabel('Loss')\n",
        "axs[1].legend()\n",
        "\n",
        "axs[2].hist(retain_losses_gold, density = True, bins=50, alpha=0.5, label='Retain', color='blue')\n",
        "axs[2].hist(forget_losses_gold, density = True, bins=50, alpha=0.5, label='Forget', color='red')\n",
        "axs[2].set_title('Gold Model')\n",
        "axs[2].set_xlabel('Loss')\n",
        "axs[2].legend()\n",
        "\n",
        "plt.show()"
      ]
    },
    {
      "cell_type": "code",
      "execution_count": null,
      "metadata": {
        "id": "a557E8OQZEQu"
      },
      "outputs": [],
      "source": [
        "def simple_mia(sample_loss, members, n_splits=10, random_state=0):\n",
        "    \"\"\"Computes cross-validation score of a membership inference attack.\n",
        "\n",
        "    Args:\n",
        "      sample_loss : array_like of shape (n,).\n",
        "        objective function evaluated on n samples.\n",
        "      members : array_like of shape (n,),\n",
        "        whether a sample was used for training.\n",
        "      n_splits: int\n",
        "        number of splits to use in the cross-validation.\n",
        "    Returns:\n",
        "      scores : array_like of size (n_splits,)\n",
        "    \"\"\"\n",
        "\n",
        "    torch.manual_seed(torch.initial_seed())\n",
        "\n",
        "    unique_members = np.unique(members)\n",
        "    if not np.all(unique_members == np.array([0, 1])):\n",
        "        raise ValueError(\"members should only have 0 and 1s\")\n",
        "\n",
        "    attack_model = linear_model.LogisticRegression(random_state=random_state)\n",
        "    cv = model_selection.StratifiedShuffleSplit(\n",
        "        n_splits=n_splits, random_state = 0\n",
        "    )\n",
        "\n",
        "    return model_selection.cross_val_score(\n",
        "        attack_model, sample_loss, members, cv=cv, scoring=\"accuracy\",\n",
        "    )"
      ]
    },
    {
      "cell_type": "code",
      "execution_count": null,
      "metadata": {
        "id": "MfE__ILgZEQv",
        "outputId": "615b136a-ea8d-40a7-be5e-2ec64d551410",
        "colab": {
          "base_uri": "https://localhost:8080/"
        }
      },
      "outputs": [
        {
          "output_type": "stream",
          "name": "stdout",
          "text": [
            "Model MIA score: 0.5369\n"
          ]
        }
      ],
      "source": [
        "# mia on model\n",
        "retain_losses_subsample = np.random.choice(retain_losses, len(forget_losses), replace=False)\n",
        "samples_mia = np.concatenate([retain_losses_subsample, forget_losses]).reshape(-1, 1)\n",
        "#balance the number of samples\n",
        "members_mia = np.concatenate([np.zeros(len(retain_losses_subsample)), np.ones(len(forget_losses))])\n",
        "\n",
        "scores_model = simple_mia(samples_mia, members_mia)\n",
        "print(f\"Model MIA score: {scores_model.mean():.4f}\")"
      ]
    },
    {
      "cell_type": "code",
      "execution_count": null,
      "metadata": {
        "id": "HzQh9H1OZEQw",
        "outputId": "bbdc926f-ee2c-4d36-c066-2a4fcbd2c214",
        "colab": {
          "base_uri": "https://localhost:8080/"
        }
      },
      "outputs": [
        {
          "output_type": "stream",
          "name": "stdout",
          "text": [
            "Forget Model MIA score: 0.7819\n"
          ]
        }
      ],
      "source": [
        "#mia on forget model\n",
        "retain_losses_forget_subsample = np.random.choice(retain_losses_forget, len(forget_losses_forget), replace=False)\n",
        "samples_mia = np.concatenate([retain_losses_forget_subsample, forget_losses_forget]).reshape(-1, 1)\n",
        "members_mia = np.concatenate([np.zeros(len(retain_losses_forget_subsample)), np.ones(len(forget_losses_forget))])\n",
        "\n",
        "scores_forget = simple_mia(samples_mia, members_mia)\n",
        "print(f\"Forget Model MIA score: {scores_forget.mean():.4f}\")"
      ]
    },
    {
      "cell_type": "code",
      "execution_count": null,
      "metadata": {
        "id": "SGVuS91HZEQx",
        "outputId": "acde5d6b-c045-418d-d385-eabf7c8a08e8",
        "colab": {
          "base_uri": "https://localhost:8080/"
        }
      },
      "outputs": [
        {
          "output_type": "stream",
          "name": "stdout",
          "text": [
            "Gold Model MIA score: 0.9981\n"
          ]
        }
      ],
      "source": [
        "# mia on gold model\n",
        "retain_losses_gold_subsample = np.random.choice(retain_losses_gold, len(forget_losses_gold), replace=False)\n",
        "samples_mia = np.concatenate([retain_losses_gold_subsample, forget_losses_gold]).reshape(-1, 1)\n",
        "members_mia = np.concatenate([np.zeros(len(retain_losses_gold_subsample)), np.ones(len(forget_losses_gold))])\n",
        "\n",
        "scores_gold = simple_mia(samples_mia, members_mia)\n",
        "print(f\"Gold Model MIA score: {scores_gold.mean():.4f}\")"
      ]
    },
    {
      "cell_type": "markdown",
      "metadata": {
        "id": "UkhFfvgGZEQy"
      },
      "source": [
        "#### Your Turn ( 3 Points)\n",
        "\n",
        "**Question**\n",
        "\n",
        "Q: *For each model, analyze the loss plots and explain the results obtained from the membership inference attack (MIA).*\n",
        "\n",
        "A:\n",
        "\n",
        "**Original Model:** High MIA score, vulnerable to membership inference attacks.\n",
        "\n",
        "**Forget Model:** Lower MIA score, improved privacy compared to the original model.\n",
        "\n",
        "**Gold Model:** Lowest MIA score, representing the ideal privacy scenario.\n"
      ]
    },
    {
      "cell_type": "markdown",
      "metadata": {
        "id": "Q9TQz3eKZEQz"
      },
      "source": [
        "# 6. Unlearning with Kl divergence\n"
      ]
    },
    {
      "cell_type": "markdown",
      "metadata": {
        "id": "dPykRLw0ZEQ0"
      },
      "source": [
        "The Kullback-Leibler (KL) divergence is a measure of how one probability distribution differs from another. In this case, to induce unlearning, we want the model's predictions on the forget set to match a uniform distribution, meaning the model \"forgets\" any specific information about these classes."
      ]
    },
    {
      "cell_type": "markdown",
      "metadata": {
        "id": "02mQ24cuZEQ0"
      },
      "source": [
        "#### Your Turn (1 Point)\n",
        "\n",
        "Next, consider a simple scenario to clarify the concept: a classification problem with four classes. Here, the objective is to unlearn one class by enforcing the logits' distribution (after the softmax) to match a uniform distribution. In this case, let the target distribution for a sample coming from the forget set be $y_{gt} = [0.25, 0.25, 0.25, 0.25]$, and assume that you have achieved the predicted distribution $y_{pred} = [0.25, 0.25, 0.25, 0.25]$\n",
        "\n",
        "**Question**\n",
        "\n",
        "Q: *In this context, why is it preferable to use KL divergence instead of Cross-Entropy? Explain it and fill the code below in order to show it numerically.*\n",
        "\n",
        "A: KL Divergence is better for unlearning because it directly measures how different the model's predictions are from random guessing.\n",
        "\n",
        "We want the model to \"forget\" specific things, so its predictions should look like it's just guessing randomly (a uniform distribution). KL Divergence becomes 0 when the predictions perfectly match this random guessing, which is our goal.\n",
        "\n",
        "Cross-Entropy, on the other hand, gives the same value regardless of which class we're trying to unlearn. This makes it less useful for telling us if the unlearning is working."
      ]
    },
    {
      "cell_type": "code",
      "execution_count": null,
      "metadata": {
        "id": "MCVWEO_NZEQ2",
        "outputId": "002e9808-54d4-47a6-d562-b9fa2e915440",
        "colab": {
          "base_uri": "https://localhost:8080/"
        }
      },
      "outputs": [
        {
          "output_type": "stream",
          "name": "stdout",
          "text": [
            "Cross Entropy: 1.3863\n",
            "KL Divergence: 0.0000\n"
          ]
        }
      ],
      "source": [
        "y_gt = torch.tensor([0.25, 0.25, 0.25, 0.25])\n",
        "y_pred = torch.tensor([0.25, 0.25, 0.25, 0.25])\n",
        "\n",
        "'''\n",
        "Add your code below\n",
        "'''\n",
        "cross_entropy = -torch.sum(y_gt * torch.log(y_pred))\n",
        "kl_div = torch.sum(y_gt * (torch.log(y_gt) - torch.log(y_pred)))\n",
        "\n",
        "print(f\"Cross Entropy: {cross_entropy:.4f}\")\n",
        "print(f\"KL Divergence: {kl_div:.4f}\")"
      ]
    },
    {
      "cell_type": "markdown",
      "metadata": {
        "id": "jpAkkOOzZEQ3"
      },
      "source": [
        "**Question**\n",
        "\n",
        "Q: *Before proceeding, you should explain the relationship between Cross-Entropy and Kullback-Leibler (KL) divergence. Provide the proof showing how to derive the relationship between the two.*\n",
        "\n",
        "A: Cross-Entropy and KL Divergence are closely related concepts in information theory and machine learning. In essence, Cross-Entropy can be expressed as the sum of KL Divergence and the entropy of the true distribution.\n",
        "\n",
        "**KL Divergence:** KL(P || Q) = ∑ P(x) * log(P(x) / Q(x))\n",
        "\n",
        "**Cross-Entropy:** H(P, Q) = -∑ P(x) * log(Q(x))\n",
        "\n",
        "**Entropy:** H(P) = -∑ P(x) * log(P(x))\n",
        "\n",
        "**Derivation:**\n",
        "H(P, Q) = -∑ P(x) * log(Q(x))\n",
        "\n",
        "H(P, Q) = -∑ P(x) * log(P(x) / P(x) * Q(x))\n",
        "\n",
        "H(P, Q) = -∑ P(x) * [log(P(x)) + log (Q(x)/P(x))]\n",
        "\n",
        "H(P, Q) = -∑ P(x) * log(P(x)) -∑ P(x) * log (Q(x)/P(x))\n",
        "\n",
        "**H(P, Q) = H(P) + KL(P || Q)**\n"
      ]
    },
    {
      "cell_type": "code",
      "execution_count": null,
      "metadata": {
        "id": "XOvyaLODZEQ4"
      },
      "outputs": [],
      "source": [
        "#fix seeds\n",
        "np.random.seed(0)\n",
        "torch.manual_seed(0)\n",
        "random.seed(0)\n",
        "torch.cuda.manual_seed(0)\n",
        "torch.cuda.manual_seed_all(0)\n",
        "torch.backends.cudnn.deterministic = True\n",
        "torch.backends.cudnn.benchmark = False"
      ]
    },
    {
      "cell_type": "code",
      "execution_count": null,
      "metadata": {
        "id": "EbNiRpu9ZEQ5"
      },
      "outputs": [],
      "source": [
        "def make_target (target, number_of_classes = 10):\n",
        "    '''\n",
        "    Function to modify the target class\n",
        "    '''\n",
        "    device = torch.device(\"cuda\" if torch.cuda.is_available() else \"cpu\")\n",
        "    tensor = torch.nn.functional.one_hot(target, num_classes= number_of_classes ).float().to(device)\n",
        "    # Identify rows with 1 in the first position\n",
        "    first_pos_mask = target == 0\n",
        "\n",
        "    # Substite the rows with 1 in the first position with a uniform distribution\n",
        "    n = tensor.size(1)  # Numero di colonne\n",
        "    uniform_distribution = torch.full((n,), 1.0 / n, device = device)  # Distribuzione uniforme\n",
        "    tensor[first_pos_mask] = uniform_distribution\n",
        "\n",
        "    return tensor"
      ]
    },
    {
      "cell_type": "code",
      "execution_count": null,
      "metadata": {
        "id": "K1p5306zZEQ6"
      },
      "outputs": [],
      "source": [
        "def unlearning_2 (model, forget_loader, validation, epochs, optimizer, scheduler):\n",
        "    '''\n",
        "    Function to unlearn the forget set\n",
        "    '''\n",
        "    device = torch.device(\"cuda\" if torch.cuda.is_available() else \"cpu\")\n",
        "    epsilon = 1e-5\n",
        "    model.to(device)\n",
        "    losses = []\n",
        "    losses_val = []\n",
        "\n",
        "    for epoch in range(epochs):\n",
        "        model.train()\n",
        "        loss_epoch = 0\n",
        "        loop = tqdm(enumerate(forget_loader), total=len(forget_loader), leave=True)\n",
        "        for batch_idx, (inputs, targets) in loop:\n",
        "            inputs, targets = inputs.to(device), targets.to(device)\n",
        "            optimizer.zero_grad()\n",
        "            outputs = model(inputs)\n",
        "            outputs = outputs + epsilon\n",
        "            outputs = F.log_softmax(outputs, dim=1)\n",
        "\n",
        "            targets = make_target(targets)\n",
        "            loss = F.kl_div(outputs, targets, reduction='batchmean')\n",
        "            loss.backward()\n",
        "            optimizer.step()\n",
        "\n",
        "            #running loss\n",
        "            loss_epoch += loss.item()\n",
        "            # Update progress bar with loss and epoch information\n",
        "            loop.set_description(f\"Epoch [{epoch+1}/{epochs}]\")\n",
        "            loop.set_postfix(loss=loss.item())\n",
        "\n",
        "        #avg loss\n",
        "        avg_loss = loss_epoch / len(forget_loader )\n",
        "        losses.append(avg_loss)\n",
        "        #scheduler step\n",
        "        scheduler.step(avg_loss)\n",
        "        tqdm.write(f\"Epoch [{epoch+1}/{epochs}], Average Loss: {avg_loss:.4f}\")\n",
        "\n",
        "        # validation\n",
        "        loss_val = 0\n",
        "        model.eval()\n",
        "        with torch.no_grad():\n",
        "            for data, targets in validation:\n",
        "                data = data.to(device=device)\n",
        "                targets = targets.to(device=device)\n",
        "\n",
        "                scores = model(data)\n",
        "                scores = scores + epsilon\n",
        "                scores = F.log_softmax(scores, dim=1)\n",
        "                targets = make_target(targets)\n",
        "                loss = F.kl_div(scores, targets, reduction='batchmean')\n",
        "                loss_val += loss.item()\n",
        "            # Calculate average loss for the epoch\n",
        "            avg_val_loss = loss_val / len(validation)\n",
        "            losses_val.append(avg_val_loss)\n",
        "            print(f\"Validation Loss: {avg_val_loss:.4f}\")\n",
        "            # if avg val_loss is better than the one before, save the model\n",
        "            if epoch == 0:\n",
        "                # create directory if not exist\n",
        "                os.makedirs(\"checkpoint\", exist_ok=True)\n",
        "                best_loss = avg_val_loss\n",
        "                torch.save(model.state_dict(), \"checkpoint/another_forget_model.pth\")\n",
        "            elif avg_val_loss < best_loss:\n",
        "                best_loss = avg_val_loss\n",
        "                torch.save(model.state_dict(), \"checkpoint/another_forget_model.pth\")\n",
        "    return model, losses, losses_val"
      ]
    },
    {
      "cell_type": "code",
      "execution_count": null,
      "metadata": {
        "id": "SRpODhLcZEQ7",
        "colab": {
          "base_uri": "https://localhost:8080/"
        },
        "outputId": "6680ecc9-f2f6-4729-ce82-7a1f8eae6f64"
      },
      "outputs": [
        {
          "output_type": "stream",
          "name": "stderr",
          "text": [
            "<ipython-input-44-24feaf927bd5>:2: FutureWarning: You are using `torch.load` with `weights_only=False` (the current default value), which uses the default pickle module implicitly. It is possible to construct malicious pickle data which will execute arbitrary code during unpickling (See https://github.com/pytorch/pytorch/blob/main/SECURITY.md#untrusted-models for more details). In a future release, the default value for `weights_only` will be flipped to `True`. This limits the functions that could be executed during unpickling. Arbitrary objects will no longer be allowed to be loaded via this mode unless they are explicitly allowlisted by the user via `torch.serialization.add_safe_globals`. We recommend you start setting `weights_only=True` for any use case where you don't have full control of the loaded file. Please open an issue on GitHub for any issues related to this experimental feature.\n",
            "  another_forget_model.load_state_dict(torch.load(\"checkpoint/best_model.pth\"));\n",
            "/usr/local/lib/python3.10/dist-packages/torch/optim/lr_scheduler.py:62: UserWarning: The verbose parameter is deprecated. Please use get_last_lr() to access the learning rate.\n",
            "  warnings.warn(\n",
            "Epoch [1/10]: 100%|██████████| 10/10 [00:01<00:00,  5.70it/s, loss=1.5]\n"
          ]
        },
        {
          "output_type": "stream",
          "name": "stdout",
          "text": [
            "Epoch [1/10], Average Loss: 1.6709\n",
            "Validation Loss: 1.4851\n"
          ]
        },
        {
          "output_type": "stream",
          "name": "stderr",
          "text": [
            "Epoch [2/10]: 100%|██████████| 10/10 [00:01<00:00,  6.17it/s, loss=1.16]\n"
          ]
        },
        {
          "output_type": "stream",
          "name": "stdout",
          "text": [
            "Epoch [2/10], Average Loss: 1.2960\n",
            "Validation Loss: 1.0924\n"
          ]
        },
        {
          "output_type": "stream",
          "name": "stderr",
          "text": [
            "Epoch [3/10]: 100%|██████████| 10/10 [00:02<00:00,  4.96it/s, loss=0.995]\n"
          ]
        },
        {
          "output_type": "stream",
          "name": "stdout",
          "text": [
            "Epoch [3/10], Average Loss: 1.0508\n",
            "Validation Loss: 0.8408\n"
          ]
        },
        {
          "output_type": "stream",
          "name": "stderr",
          "text": [
            "Epoch [4/10]: 100%|██████████| 10/10 [00:02<00:00,  4.62it/s, loss=0.801]\n"
          ]
        },
        {
          "output_type": "stream",
          "name": "stdout",
          "text": [
            "Epoch [4/10], Average Loss: 0.8772\n",
            "Validation Loss: 0.7129\n"
          ]
        },
        {
          "output_type": "stream",
          "name": "stderr",
          "text": [
            "Epoch [5/10]: 100%|██████████| 10/10 [00:01<00:00,  6.15it/s, loss=0.704]\n"
          ]
        },
        {
          "output_type": "stream",
          "name": "stdout",
          "text": [
            "Epoch [5/10], Average Loss: 0.7431\n",
            "Validation Loss: 0.6211\n"
          ]
        },
        {
          "output_type": "stream",
          "name": "stderr",
          "text": [
            "Epoch [6/10]: 100%|██████████| 10/10 [00:01<00:00,  6.12it/s, loss=0.661]\n"
          ]
        },
        {
          "output_type": "stream",
          "name": "stdout",
          "text": [
            "Epoch [6/10], Average Loss: 0.6477\n",
            "Validation Loss: 0.5407\n"
          ]
        },
        {
          "output_type": "stream",
          "name": "stderr",
          "text": [
            "Epoch [7/10]: 100%|██████████| 10/10 [00:01<00:00,  6.21it/s, loss=0.533]\n"
          ]
        },
        {
          "output_type": "stream",
          "name": "stdout",
          "text": [
            "Epoch [7/10], Average Loss: 0.5709\n",
            "Validation Loss: 0.4749\n"
          ]
        },
        {
          "output_type": "stream",
          "name": "stderr",
          "text": [
            "Epoch [8/10]: 100%|██████████| 10/10 [00:01<00:00,  6.13it/s, loss=0.452]\n"
          ]
        },
        {
          "output_type": "stream",
          "name": "stdout",
          "text": [
            "Epoch [8/10], Average Loss: 0.5040\n",
            "Validation Loss: 0.4171\n"
          ]
        },
        {
          "output_type": "stream",
          "name": "stderr",
          "text": [
            "Epoch [9/10]: 100%|██████████| 10/10 [00:01<00:00,  6.12it/s, loss=0.429]\n"
          ]
        },
        {
          "output_type": "stream",
          "name": "stdout",
          "text": [
            "Epoch [9/10], Average Loss: 0.4547\n",
            "Validation Loss: 0.3784\n"
          ]
        },
        {
          "output_type": "stream",
          "name": "stderr",
          "text": [
            "Epoch [10/10]: 100%|██████████| 10/10 [00:01<00:00,  5.32it/s, loss=0.402]\n"
          ]
        },
        {
          "output_type": "stream",
          "name": "stdout",
          "text": [
            "Epoch [10/10], Average Loss: 0.4122\n",
            "Validation Loss: 0.3430\n"
          ]
        }
      ],
      "source": [
        "another_forget_model = create_model()\n",
        "another_forget_model.load_state_dict(torch.load(\"checkpoint/best_model.pth\"));\n",
        "another_forget_model.to(device);\n",
        "\n",
        "# optimizer\n",
        "optimizer = torch.optim.Adam(another_forget_model.parameters(), lr=0.0001)\n",
        "scheduler = torch.optim.lr_scheduler.ReduceLROnPlateau(optimizer, mode='min', factor=0.1, patience=5, verbose=True)\n",
        "num_epochs = 10\n",
        "\n",
        "forget_loader = forget_loader\n",
        "val_loader = forget_loader_val\n",
        "\n",
        "another_forget_model, losses, losses_val = unlearning_2(another_forget_model, forget_loader, val_loader, num_epochs, optimizer, scheduler)"
      ]
    },
    {
      "cell_type": "code",
      "execution_count": null,
      "metadata": {
        "id": "cuo00tmjZEQ7",
        "outputId": "a10a0c2a-7a63-4036-edb6-dc52075a46e3",
        "colab": {
          "base_uri": "https://localhost:8080/",
          "height": 362
        }
      },
      "outputs": [
        {
          "output_type": "display_data",
          "data": {
            "text/plain": [
              "<Figure size 1500x500 with 1 Axes>"
            ],
            "image/png": "[encoded data removed]"
          },
          "metadata": {}
        }
      ],
      "source": [
        "#plot losses\n",
        "#epoch of best validation loss\n",
        "index_best = losses_val.index(min(losses_val))\n",
        "\n",
        "plt.figure(figsize=(15, 5))\n",
        "plt.plot(losses, label=\"Train Loss\")\n",
        "plt.plot(losses_val, label=\"Val Loss\")\n",
        "plt.axvline(index_best, color='r', linestyle='--', label=\"Best Val Loss\")\n",
        "plt.legend()\n",
        "plt.title(\"Loss vs Epochs\")\n",
        "plt.xlabel(\"Epochs\")\n",
        "plt.ylabel(\"Loss\")\n",
        "plt.grid()\n",
        "plt.show()"
      ]
    },
    {
      "cell_type": "code",
      "execution_count": null,
      "metadata": {
        "id": "NseAGP-4ZEQ9",
        "colab": {
          "base_uri": "https://localhost:8080/"
        },
        "outputId": "f905e9fe-4394-40a8-eaac-e1eca79bd584"
      },
      "outputs": [
        {
          "output_type": "stream",
          "name": "stderr",
          "text": [
            "<ipython-input-46-c1f19255cae9>:3: FutureWarning: You are using `torch.load` with `weights_only=False` (the current default value), which uses the default pickle module implicitly. It is possible to construct malicious pickle data which will execute arbitrary code during unpickling (See https://github.com/pytorch/pytorch/blob/main/SECURITY.md#untrusted-models for more details). In a future release, the default value for `weights_only` will be flipped to `True`. This limits the functions that could be executed during unpickling. Arbitrary objects will no longer be allowed to be loaded via this mode unless they are explicitly allowlisted by the user via `torch.serialization.add_safe_globals`. We recommend you start setting `weights_only=True` for any use case where you don't have full control of the loaded file. Please open an issue on GitHub for any issues related to this experimental feature.\n",
            "  another_forget_model.load_state_dict(torch.load(\"checkpoint/another_forget_model.pth\"))\n"
          ]
        }
      ],
      "source": [
        "# calculate accuracy\n",
        "another_forget_model = create_model()\n",
        "another_forget_model.load_state_dict(torch.load(\"checkpoint/another_forget_model.pth\"))\n",
        "another_forget_model.eval()\n",
        "another_forget_model.to(device)\n",
        "\n",
        "\n",
        "# Calculate the accuracy on the test set\n",
        "retain_accuracy = accuracy(another_forget_model, retain_loader)\n",
        "forget_accuracy = accuracy(another_forget_model, forget_loader)\n",
        "test_accuracy = accuracy(another_forget_model, test_loader)\n",
        "retain_test_accuracy = accuracy(another_forget_model, retain_loader_test)\n",
        "forget_test_accuracy = accuracy(another_forget_model, forget_loader_test)"
      ]
    },
    {
      "cell_type": "code",
      "execution_count": null,
      "metadata": {
        "id": "GzB0vaq3ZEQ-",
        "outputId": "7ee8bc5a-ed62-47e9-8e52-a99d25787608",
        "colab": {
          "base_uri": "https://localhost:8080/"
        }
      },
      "outputs": [
        {
          "output_type": "stream",
          "name": "stdout",
          "text": [
            "Retain Accuracy: 64.2889\n",
            "Forget Accuracy: 16.6000\n",
            "Test Accuracy: 56.6625\n",
            "Test Retain Accuracy: 61.3194\n",
            "Test Forget Accuracy: 14.7500\n"
          ]
        }
      ],
      "source": [
        "# print accuracies on retain, forget and test set\n",
        "print(f\"Retain Accuracy: {100* retain_accuracy:.4f}\")\n",
        "print(f\"Forget Accuracy: {100* forget_accuracy:.4f}\")\n",
        "print(f\"Test Accuracy: {100* test_accuracy:.4f}\")\n",
        "print(f\"Test Retain Accuracy: {100* retain_test_accuracy:.4f}\")\n",
        "print(f\"Test Forget Accuracy: {100* forget_test_accuracy:.4f}\")"
      ]
    },
    {
      "cell_type": "code",
      "execution_count": null,
      "metadata": {
        "id": "ULJqzgRsZEQ_"
      },
      "outputs": [],
      "source": [
        "# calculate losses of the model on forget and retain test set\n",
        "retain_losses_CE = compute_losses(another_forget_model, retain_loader_test)\n",
        "forget_losses_CE = compute_losses(another_forget_model, forget_loader_test)"
      ]
    },
    {
      "cell_type": "code",
      "execution_count": null,
      "metadata": {
        "id": "hNsG8NTZZERA",
        "outputId": "a3cbc278-5da1-4ebf-8902-b3c22ab6d5b9",
        "colab": {
          "base_uri": "https://localhost:8080/",
          "height": 472
        }
      },
      "outputs": [
        {
          "output_type": "display_data",
          "data": {
            "text/plain": [
              "<Figure size 640x480 with 1 Axes>"
            ],
            "image/png": "[encoded data removed]"
          },
          "metadata": {}
        }
      ],
      "source": [
        "plt.hist(retain_losses_CE, density = True, bins=50, alpha=0.5, label='Retain', color='blue')\n",
        "plt.hist(forget_losses_CE, density = True, bins=50, alpha=0.5, label='Forget', color='red')\n",
        "plt.title('Another Forget Model')\n",
        "plt.xlabel('Loss')\n",
        "plt.legend()\n",
        "plt.show()"
      ]
    },
    {
      "cell_type": "code",
      "execution_count": null,
      "metadata": {
        "id": "fdwjXt1CZERA",
        "outputId": "598ee260-2004-45cf-a8cd-0f00266f2129",
        "colab": {
          "base_uri": "https://localhost:8080/"
        }
      },
      "outputs": [
        {
          "output_type": "stream",
          "name": "stdout",
          "text": [
            "Another Forget Model MIA score with Cross Entropy losses: 0.7650\n"
          ]
        }
      ],
      "source": [
        "# mia attack on cross entropy\n",
        "np.random.seed(0)\n",
        "subsample_retain_losses_CE = np.random.choice(retain_losses_CE, len(forget_losses), replace=False)\n",
        "samples_mia = np.concatenate([subsample_retain_losses_CE, forget_losses_CE]).reshape(-1, 1)\n",
        "members_mia = np.concatenate([np.zeros(len(subsample_retain_losses_CE)), np.ones(len(forget_losses))])\n",
        "\n",
        "scores_another_forget = simple_mia(samples_mia, members_mia)\n",
        "print(f\"Another Forget Model MIA score with Cross Entropy losses: {scores_another_forget.mean():.4f}\")"
      ]
    },
    {
      "cell_type": "markdown",
      "metadata": {
        "id": "oN7Ts4SDZERB"
      },
      "source": [
        "This is another way of performing unlearning, you may have noticed that the distributions of the retain and forget sets are different but still there is an overlapping portion. It is very likely that the MIA attack will fail in that specific region."
      ]
    },
    {
      "cell_type": "markdown",
      "metadata": {
        "id": "rbWm4A23ZERC"
      },
      "source": [
        "# GMN for unlearning (6 Points)\n",
        "\n",
        "Now, we will attempt to use the GMN you have implemented in the theory notebook for the unlearning task. Keep in mind that this is a novel and challenging task, and it is quite possible that the results may not meet your expectations. However, this is the nature of research. Therefore, the evaluation will focus on the clarity of your approach and your ability to justify your choices and results, rather then the result itself."
      ]
    },
    {
      "cell_type": "markdown",
      "metadata": {
        "id": "Z4kkU5JCZERC"
      },
      "source": [
        "First of all, go into the ```Practice/gmn/graph_models.py``` file and replace the empty classes with what you have implemented in the second part of the theory notebook. Then, try to think about and implement an unlearning algorithm that leverages the graph metanetwork, and evaluate the unlearned model with MIA attacks and accuracy scores. It would be super cool to have a neural network (the GMN) that can take as input other pretrained neural networks and produce as output the same networks but unlearned over a specific subset of data samples.\n",
        "\n",
        "In the end, generate a detailed report where you describe your idea, methodology and implementation. Put the most of your effort in explaining us the ideas and the intuitions that you had, since this is what we will reward. Don't be worried if results are poor, there can be many causes of this and it's not your task to solve all of them."
      ]
    },
    {
      "cell_type": "code",
      "execution_count": null,
      "metadata": {
        "id": "wKlStRF2ZERD",
        "outputId": "7c47cd31-f779-4764-e11e-d76a9032c465"
      },
      "outputs": [
        {
          "name": "stdout",
          "output_type": "stream",
          "text": [
            "DataBatch(x=[216, 3], edge_index=[2, 59050], edge_attr=[59050, 6], u=[1, 8], batch=[216], ptr=[2])\n"
          ]
        }
      ],
      "source": [
        "from gmn.graph_models import *\n",
        "from torch_geometric.data import Data, Batch\n",
        "from gmn.graph_construct.model_arch_graph import sequential_to_arch, arch_to_graph, graph_to_arch, arch_to_sequential\n",
        "from gmn.feature_extractor_gmn import NodeEdgeFeatEncoder\n",
        "from gmn.graph_models import MPNN\n",
        "\n",
        "torch.manual_seed(0)\n",
        "\n",
        "weights = torch.load(\"checkpoint/best_model.pth\")\n",
        "model = create_model()\n",
        "model.load_state_dict(weights)\n",
        "arch = sequential_to_arch(model)\n",
        "x, edge_index, edge_attr = arch_to_graph(arch)\n",
        "x = x.float()\n",
        "edge_attr = edge_attr.float()\n",
        "\n",
        "# currently u is a vector of zeros, and it is basically useless. You can consider filling it with what you prefer and leverage it for the task of unlearning\n",
        "g_cnn = Data(x=x, edge_index=edge_index, edge_attr=edge_attr, u = torch.zeros(1, 8))\n",
        "\n",
        "graph_batch = Batch.from_data_list([g_cnn])\n",
        "print(graph_batch)"
      ]
    },
    {
      "cell_type": "code",
      "execution_count": null,
      "metadata": {
        "id": "gzW5B5jzZERE"
      },
      "outputs": [],
      "source": [
        "class GraphMetaNetwork(nn.Module):\n",
        "    '''\n",
        "    Wrapper class for the graph metanetwork\n",
        "    '''\n",
        "    def __init__(self, encoder, mpnn):\n",
        "        super(GraphMetaNetwork, self).__init__()\n",
        "        self.encoder = encoder\n",
        "        self.mpnn = mpnn\n",
        "\n",
        "    def forward(self, data):\n",
        "        x, edge_index, edge_attr, u, batch = data.x, data.edge_index, data.edge_attr, data.u, data.batch\n",
        "        x, edge_attr = self.encoder(x, edge_attr)\n",
        "        x, edge_attr, u = self.mpnn(x, edge_index, edge_attr, u, batch)\n",
        "        return edge_attr\n",
        "\n",
        "# Define the encoder and MPNN\n",
        "pre_embedding_dim = 64\n",
        "global_in_dim = 8\n",
        "hidden_dim = 32\n",
        "node_out_dim = 3\n",
        "edge_out_dim = 1\n",
        "global_out_dim = 8\n",
        "num_gnn_layers = 4\n",
        "encoder = NodeEdgeFeatEncoder(hidden_dim=pre_embedding_dim)\n",
        "mpnn = MPNN(node_in_dim=pre_embedding_dim,\n",
        "            edge_in_dim=pre_embedding_dim,\n",
        "            global_in_dim = global_in_dim,\n",
        "            hidden_dim=hidden_dim,\n",
        "            node_out_dim= node_out_dim,\n",
        "            edge_out_dim = edge_out_dim,\n",
        "            global_out_dim= global_out_dim,\n",
        "            num_layers=num_gnn_layers,\n",
        "            reduce='mean')\n",
        "\n",
        "# Create the metanetwork\n",
        "gmn = GraphMetaNetwork(encoder, mpnn)\n",
        "gmn.to(device)"
      ]
    },
    {
      "cell_type": "markdown",
      "metadata": {
        "id": "_cyDhJ1qZERE"
      },
      "source": [
        "If you need to convert the output of the gmn back into a neural network model (i.e., an ```nn.Sequential``` object), please look into ```graph_to_arch``` and ```arch_to_sequential``` functions stored in ```Practice/gmn/graph_construct/model_arch_graph.py```."
      ]
    },
    {
      "cell_type": "code",
      "execution_count": null,
      "metadata": {
        "id": "Vx_hEfbvZERF"
      },
      "outputs": [],
      "source": [
        "'''\n",
        "Add your code below\n",
        "'''"
      ]
    },
    {
      "cell_type": "markdown",
      "metadata": {
        "id": "dPXvb-hWZERG"
      },
      "source": [
        "## Report\n",
        "\n",
        "..."
      ]
    }
  ],
  "metadata": {
    "colab": {
      "provenance": [],
      "gpuType": "T4",
      "toc_visible": true
    },
    "kernelspec": {
      "display_name": "Python 3",
      "name": "python3"
    },
    "language_info": {
      "codemirror_mode": {
        "name": "ipython",
        "version": 3
      },
      "file_extension": ".py",
      "mimetype": "text/x-python",
      "name": "python",
      "nbconvert_exporter": "python",
      "pygments_lexer": "ipython3",
      "version": "3.10.12"
    },
    "accelerator": "GPU"
  },
  "nbformat": 4,
  "nbformat_minor": 0
}